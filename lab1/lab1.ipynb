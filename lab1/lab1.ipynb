{
 "cells": [
  {
   "cell_type": "markdown",
   "metadata": {},
   "source": [
    "## Task\n",
    "\n",
    "Given a number $N$ and some lists of integers $P = (L_0, L_1, L_2, ..., L_n)$, \n",
    "determine is possible $S = (L_{s_0}, L_{s_1}, L_{s_2}, ..., L_{s_n})$\n",
    "such that each number between $0$ and $N-1$ appears in at least one list\n",
    "\n",
    "$$\\forall n \\in [0, N-1] \\ \\exists i : n \\in L_{s_i}$$\n",
    "\n",
    "and that the total numbers of elements in all $L_{s_i}$ is minimum. \n",
    "\n",
    "## Instructions\n",
    "\n",
    "* Create the directory `lab1` inside the course repo (the one you registered with Andrea)\n",
    "* Put a `README.md` and your solution (all the files, code and auxiliary data if needed)\n",
    "* Use `problem` to generate the problems with different $N$\n",
    "* In the `README.md`, report the the total numbers of elements in $L_{s_i}$ for problem with $N \\in [5, 10, 20, 100, 500, 1000]$ and the total number on $nodes$ visited during the search. Use `seed=42`.\n",
    "* Use `GitHub Issues` to peer review others' lab"
   ]
  },
  {
   "cell_type": "code",
   "execution_count": 2,
   "metadata": {},
   "outputs": [],
   "source": [
    "import random\n",
    "import logging\n",
    "import itertools\n",
    "import numpy as np\n",
    "import tqdm\n",
    "from collections import Counter\n",
    "from gx_utils import *\n",
    "from typing import Callable\n",
    "from copy import copy"
   ]
  },
  {
   "cell_type": "code",
   "execution_count": 3,
   "metadata": {},
   "outputs": [],
   "source": [
    "def problem(N, seed=None):\n",
    "    random.seed(seed)\n",
    "    return [\n",
    "        list(set(random.randint(0, N - 1) for n in range(random.randint(N // 5, N // 2))))\n",
    "        for n in range(random.randint(N, N * 5))\n",
    "    ]"
   ]
  },
  {
   "cell_type": "markdown",
   "metadata": {},
   "source": [
    "## Greedy solution\n",
    "Does not find the optimal solution for N greater than 5 but the computation is feasible both in terms of visited nodes and computation time"
   ]
  },
  {
   "cell_type": "code",
   "execution_count": 3,
   "metadata": {},
   "outputs": [],
   "source": [
    "def set_cover(P,N):\n",
    "    goal=set(range(0,N))\n",
    "    n_nodes=0\n",
    "    P_sets=[set(x) for x in P]\n",
    "    lengths=[len(x) for x in P_sets]\n",
    "    elements=set(e for s in P for e in s)\n",
    "    if elements!=goal:\n",
    "        return None\n",
    "        \n",
    "    covered=set()\n",
    "    S=[]\n",
    "    while covered!=elements:\n",
    "        subset=max(P_sets, key=lambda s: len(s-covered)/lengths[P_sets.index(s)])\n",
    "        n_nodes+=1\n",
    "        S.append(subset)\n",
    "        covered |= subset\n",
    "    w=sum(len(_) for _ in S)\n",
    "    logging.getLogger().setLevel(logging.INFO)\n",
    "    logging.info(f\" Optimized solution for N={N}: w={w} (bloat={int((w-N)*100/N)}%), nodes visited={n_nodes}\")\n",
    "    return S, n_nodes"
   ]
  },
  {
   "cell_type": "code",
   "execution_count": 4,
   "metadata": {},
   "outputs": [
    {
     "name": "stderr",
     "output_type": "stream",
     "text": [
      "INFO:root: Optimized solution for N=10: w=12 (bloat=20%), nodes visited=5\n"
     ]
    },
    {
     "name": "stdout",
     "output_type": "stream",
     "text": [
      "[{0, 4}, {1, 2, 3}, {9, 6}, {2, 5, 7}, {8, 3}]\n",
      "5\n"
     ]
    }
   ],
   "source": [
    "N=10\n",
    "SEED=42\n",
    "solution, n_nodes=set_cover(problem(N,SEED),N)\n",
    "print(solution)\n",
    "print(n_nodes)"
   ]
  },
  {
   "cell_type": "code",
   "execution_count": 5,
   "metadata": {},
   "outputs": [
    {
     "name": "stderr",
     "output_type": "stream",
     "text": [
      "INFO:root: Optimized solution for N=5: w=5 (bloat=0%), nodes visited=5\n",
      "INFO:root: Optimized solution for N=10: w=12 (bloat=20%), nodes visited=5\n",
      "INFO:root: Optimized solution for N=20: w=30 (bloat=50%), nodes visited=6\n",
      "INFO:root: Optimized solution for N=100: w=171 (bloat=71%), nodes visited=8\n",
      "INFO:root: Optimized solution for N=500: w=1256 (bloat=151%), nodes visited=12\n",
      "INFO:root: Optimized solution for N=1000: w=2913 (bloat=191%), nodes visited=13\n"
     ]
    }
   ],
   "source": [
    "SEED=42\n",
    "for n in [5,10,20,100,500,1000]:\n",
    "    set_cover(problem(n,SEED),n)"
   ]
  },
  {
   "cell_type": "markdown",
   "metadata": {},
   "source": [
    "## Combinations\n",
    "Finds the optimal solution for N=[5,10,20]. For N greater than 20 it results in a memory allocation error"
   ]
  },
  {
   "cell_type": "code",
   "execution_count": 6,
   "metadata": {},
   "outputs": [],
   "source": [
    "def combinations_search(P,N):\n",
    "    '''for every combination of lists in P check if it's a solution. If it is save it and at the end compare all solutions'''\n",
    "    n_nodes=0\n",
    "    solutions=dict()\n",
    "    universe=set(range(0,N))\n",
    "    avg_len=sum(len(el) for el in P)/len(P) #average length of the lists generated by problem\n",
    "    avg_subsets=int(N//avg_len+N/5) #estimate that the optimal solution will be found considering a number of lists close to N/avg_len\n",
    "    for i in range(2,avg_subsets):\n",
    "        temp=list(itertools.combinations(P,i))\n",
    "        temp=list(list(el) for el in temp)  \n",
    "        n_nodes+=len(temp)\n",
    "        for el in temp:\n",
    "            current_elements=set(e for l in el for e in l)\n",
    "            if current_elements==universe:\n",
    "                solutions[sum(len(_) for _ in el)]=el\n",
    "    len_sol=min(list(solutions.keys()))\n",
    "    logging.getLogger().setLevel(logging.INFO)\n",
    "    logging.info(f\" Optimized solution for N={N}: w={len_sol}, nodes visited={n_nodes}\")\n",
    "    return solutions[len_sol], len_sol, n_nodes"
   ]
  },
  {
   "cell_type": "code",
   "execution_count": 7,
   "metadata": {},
   "outputs": [
    {
     "name": "stderr",
     "output_type": "stream",
     "text": [
      "INFO:root: Optimized solution for N=10: w=10, nodes visited=251125\n"
     ]
    },
    {
     "name": "stdout",
     "output_type": "stream",
     "text": [
      "[[1, 7], [8, 2], [4, 5, 6], [0, 9, 3]]\n",
      "251125\n"
     ]
    }
   ],
   "source": [
    "N=10\n",
    "SEED=42\n",
    "solution, len_sol, n_nodes=combinations_search(problem(N,SEED),N)\n",
    "print(solution)\n",
    "print(n_nodes)"
   ]
  },
  {
   "cell_type": "code",
   "execution_count": 8,
   "metadata": {},
   "outputs": [
    {
     "name": "stderr",
     "output_type": "stream",
     "text": [
      "INFO:root: Optimized solution for N=5: w=5, nodes visited=2600\n",
      "INFO:root: Optimized solution for N=10: w=10, nodes visited=251125\n",
      "INFO:root: Optimized solution for N=20: w=23, nodes visited=1676081\n"
     ]
    }
   ],
   "source": [
    "SEED=42\n",
    "for n in [5,10,20]:\n",
    "    combinations_search(problem(n,SEED),n)"
   ]
  },
  {
   "cell_type": "markdown",
   "metadata": {},
   "source": [
    "## Graph Search\n",
    "Finds the optimal solution but for N greater than 20 the execution time is excessive"
   ]
  },
  {
   "cell_type": "code",
   "execution_count": 10,
   "metadata": {},
   "outputs": [],
   "source": [
    "from gx_utils import *\n",
    "import logging\n",
    "import random\n",
    "from typing import Callable"
   ]
  },
  {
   "cell_type": "code",
   "execution_count": 11,
   "metadata": {},
   "outputs": [],
   "source": [
    "class State:\n",
    "    def __init__(self, data: set):\n",
    "        self._data = set(data)\n",
    "\n",
    "    def __hash__(self):\n",
    "        return hash(frozenset(self._data))\n",
    "\n",
    "    def __eq__(self, other):\n",
    "        return self._data == other._data\n",
    "\n",
    "    def __lt__(self, other):\n",
    "        return self._data < other._data\n",
    "\n",
    "    def __or__(self, other):\n",
    "        return State(self._data | other._data)\n",
    "\n",
    "    def __and__(self, other):\n",
    "        return State(self._data & other._data)\n",
    "\n",
    "    def __sub__(self, other):\n",
    "        return State(self._data - other._data)\n",
    "\n",
    "    def __str__(self):\n",
    "        return str(self._data)\n",
    "\n",
    "    def __repr__(self):\n",
    "        return repr(self._data)  \n",
    "\n",
    "    def __len__(self):\n",
    "        return len(self._data)        \n",
    "\n",
    "    @property\n",
    "    def data(self):\n",
    "        return self._data\n",
    "\n",
    "    def copy_data(self):\n",
    "        return self._data.copy()"
   ]
  },
  {
   "cell_type": "code",
   "execution_count": 12,
   "metadata": {},
   "outputs": [],
   "source": [
    "def search( \n",
    "    initial_state: State,\n",
    "    GOAL: State,\n",
    "    parent_state: dict,\n",
    "    state_cost: dict,\n",
    "    priority_function: Callable,\n",
    "    unit_cost: Callable\n",
    "):\n",
    "    parent_state.clear()\n",
    "    state_cost.clear()\n",
    "    frontier = PriorityQueue()\n",
    "    state = initial_state\n",
    "    parent_state[state] = None\n",
    "    state_cost[state] = 0\n",
    "    generated_states = 0\n",
    "    visited_states = 1\n",
    "\n",
    "    while state is not None and state!=GOAL:\n",
    "        visited_states += 1\n",
    "        for a in [State(x) for x in P]:            \n",
    "            new_state = state.__or__(a)\n",
    "            cost = unit_cost(state, a)\n",
    "            generated_states += 1\n",
    "\n",
    "            if new_state not in state_cost and new_state not in frontier:\n",
    "                parent_state[new_state] = (state, a)\n",
    "                state_cost[new_state] = state_cost[state] + cost\n",
    "                frontier.push(new_state, p=priority_function(new_state))\n",
    "                logging.debug(f\"Added new node {new_state} to frontier (cost={state_cost[new_state]}, h = {priority_function(new_state)})\")\n",
    "            elif new_state in frontier and state_cost[new_state] > state_cost[state] + cost:\n",
    "                old_cost = state_cost[new_state]\n",
    "                parent_state[new_state] = (state, a)\n",
    "                state_cost[new_state] = state_cost[state] + cost\n",
    "                logging.debug(f\"Updated node {new_state} cost in frontier: {old_cost} -> {state_cost[new_state]}\")\n",
    "        if frontier:\n",
    "            state = frontier.pop()\n",
    "        else:\n",
    "            state = None\n",
    "\n",
    "    path = list()\n",
    "    s = state\n",
    "    while parent_state[s]:\n",
    "        s, a = parent_state[s]\n",
    "        path.append(a)\n",
    "\n",
    "    logging.info(f\"Found a solution with {sum(len(_.data) for _ in path)} elements; visited {visited_states} states over {generated_states} generated states\")\n",
    "    return list(reversed(path))"
   ]
  },
  {
   "cell_type": "code",
   "execution_count": 13,
   "metadata": {},
   "outputs": [
    {
     "name": "stderr",
     "output_type": "stream",
     "text": [
      "INFO:root:N = 5\n",
      "INFO:root:Found a solution with 5 elements; visited 32 states over 775 generated states\n",
      "INFO:root:N = 10\n",
      "INFO:root:Found a solution with 10 elements; visited 583 states over 29100 generated states\n",
      "INFO:root:N = 20\n",
      "INFO:root:Found a solution with 23 elements; visited 2864 states over 97342 generated states\n"
     ]
    }
   ],
   "source": [
    "logging.getLogger().setLevel(logging.INFO)\n",
    "for N in [5, 10, 20]:\n",
    "    parent_state = dict()\n",
    "    state_cost = dict()\n",
    "    GOAL = State(set(range(N)))\n",
    "    P = problem(N, seed=42) \n",
    "    INITIAL_STATE = State(set())\n",
    "    logging.info(f'N = {N}')\n",
    "\n",
    "    final = search(\n",
    "        INITIAL_STATE,\n",
    "        GOAL,\n",
    "        parent_state=parent_state,\n",
    "        state_cost=state_cost,\n",
    "        priority_function=lambda s: state_cost[s],\n",
    "        unit_cost=lambda state, action: len(state & action),\n",
    "    )\n",
    "    logging.debug(final)"
   ]
  },
  {
   "cell_type": "markdown",
   "metadata": {},
   "source": [
    "# \n",
    "<span style=\"color:red\">**Warning:**</span> everything written from this point forward has been added after the 16/10/2022 deadline and it is taken from the professor's Squillero 2021-22 folder. I'm editing a few things, adding some functions and adapting the code to this year's problem."
   ]
  },
  {
   "cell_type": "code",
   "execution_count": 131,
   "metadata": {},
   "outputs": [],
   "source": [
    "def is_valid(N,solution):\n",
    "    universe = set(range(0,N))\n",
    "    sol = set(el for list_ in solution for el in list_)\n",
    "    return universe==sol\n",
    "\n",
    "def p_unique(P):\n",
    "    '''function that removes duplicates from P (list of lists)'''\n",
    "    #there is definitely a better way to do this...\n",
    "    P_sets=[frozenset(_) for _ in P]\n",
    "    temp=set()\n",
    "    result=list()\n",
    "    for el in P_sets:\n",
    "        temp.add(el)\n",
    "    temp=list(temp)\n",
    "    for el in temp:\n",
    "        result.append(list(el))\n",
    "    return result\n",
    "\n",
    "def solution_cost(solution): #the cost is the number of numbers in a solution\n",
    "    return sum(len(el) for el in solution)"
   ]
  },
  {
   "cell_type": "code",
   "execution_count": 82,
   "metadata": {},
   "outputs": [],
   "source": [
    "def tweak(solution):\n",
    "    new_solution = solution.copy()\n",
    "    index = None\n",
    "    while index is None or np.random.random() < 0.2:\n",
    "        index = np.random.randint(0, N)\n",
    "        new_solution[index] = not new_solution[index]\n",
    "    return new_solution"
   ]
  },
  {
   "cell_type": "markdown",
   "metadata": {},
   "source": [
    "# Vanilla Hill Climber"
   ]
  },
  {
   "cell_type": "code",
   "execution_count": 195,
   "metadata": {},
   "outputs": [],
   "source": [
    "def hill_climber(N, P, MAX_STEPS):\n",
    "    P = set(tuple(_) for _ in P)\n",
    "    universe = set(range(N))\n",
    "\n",
    "    def solution_cost(solution):\n",
    "        cnt=Counter()\n",
    "        cnt.update(sum((e for e in solution), start=()))\n",
    "        return len(cnt), -sum(len(el) for el in solution)\n",
    "\n",
    "    def is_valid(solution):\n",
    "        return universe == set(_ for _ in solution)\n",
    "\n",
    "    def tweak(solution):\n",
    "        new_solution=set(solution)\n",
    "        while new_solution and random.random() < 0.7:   #if solution is not empty and random.random is < 0.7 remove randomly one tuple in the solution\n",
    "            new_solution.remove(random.choice(list(new_solution)))\n",
    "        while random.random() < 0.7:    #with prob=0.7 add to the solution a new list (that is not already in solution)\n",
    "            new_solution.add(random.choice(list(P - solution)))\n",
    "        return new_solution\n",
    "\n",
    "    current_solution=set() #initialize the solution to an empty set\n",
    "    useless_steps=0\n",
    "    while useless_steps < MAX_STEPS and not is_valid(solution):\n",
    "        useless_steps += 1\n",
    "        candidate_solution = tweak(current_solution)\n",
    "        if solution_cost(candidate_solution) > solution_cost(current_solution):\n",
    "            useless_steps = 0\n",
    "            current_solution = copy(candidate_solution)\n",
    "            logging.debug(f\"New solution: cost={solution_cost(current_solution)}\")\n",
    "    logging.info(f\"Solution for N={N}: w={sum(len(_) for _ in current_solution)} (bloat={(sum(len(_) for _ in current_solution)-N)/N*100:.0f}%)\")\n",
    "    return current_solution"
   ]
  },
  {
   "cell_type": "code",
   "execution_count": 198,
   "metadata": {},
   "outputs": [
    {
     "name": "stderr",
     "output_type": "stream",
     "text": [
      "INFO:root:Solution for N=5: w=5 (bloat=0%)\n",
      "INFO:root:Solution for N=10: w=11 (bloat=10%)\n",
      "INFO:root:Solution for N=20: w=24 (bloat=20%)\n",
      "INFO:root:Solution for N=100: w=214 (bloat=114%)\n",
      "INFO:root:Solution for N=500: w=1566 (bloat=213%)\n",
      "INFO:root:Solution for N=1000: w=3383 (bloat=238%)\n"
     ]
    }
   ],
   "source": [
    "logging.getLogger().setLevel(logging.INFO)\n",
    "MAX_STEPS = 10_000\n",
    "SEED = 42\n",
    "np.random.seed(SEED)\n",
    "for N in [5,10,20,100,500,1000]:\n",
    "    hill_climber(N, problem(N,SEED), MAX_STEPS)"
   ]
  }
 ],
 "metadata": {
  "kernelspec": {
   "display_name": "Python 3.9.13 64-bit (microsoft store)",
   "language": "python",
   "name": "python3"
  },
  "language_info": {
   "codemirror_mode": {
    "name": "ipython",
    "version": 3
   },
   "file_extension": ".py",
   "mimetype": "text/x-python",
   "name": "python",
   "nbconvert_exporter": "python",
   "pygments_lexer": "ipython3",
   "version": "3.9.13"
  },
  "orig_nbformat": 4,
  "vscode": {
   "interpreter": {
    "hash": "006c9a256d11bcb0c3194b67b6dd4253f125bec1d01822ebb3a5ddb0c9f9fa2c"
   }
  }
 },
 "nbformat": 4,
 "nbformat_minor": 2
}
