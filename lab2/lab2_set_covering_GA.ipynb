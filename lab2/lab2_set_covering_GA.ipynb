{
 "cells": [
  {
   "cell_type": "markdown",
   "metadata": {},
   "source": [
    "# Set Covering Problem with Genetic Algorithm"
   ]
  },
  {
   "cell_type": "code",
   "execution_count": 1,
   "metadata": {},
   "outputs": [],
   "source": [
    "import random\n",
    "import logging\n",
    "from numpy import linspace\n",
    "from collections import Counter, namedtuple\n",
    "from copy import copy\n",
    "from matplotlib import pyplot as plt\n",
    "import math\n",
    "from functools import reduce\n",
    "import pandas as pd"
   ]
  },
  {
   "cell_type": "markdown",
   "metadata": {},
   "source": [
    "## Problem definition"
   ]
  },
  {
   "cell_type": "code",
   "execution_count": 2,
   "metadata": {},
   "outputs": [],
   "source": [
    "def problem(N, seed=None):\n",
    "    random.seed(seed)\n",
    "    return [\n",
    "        list(set(random.randint(0, N - 1) for n in range(random.randint(N // 5, N // 2))))\n",
    "        for n in range(random.randint(N, N * 5))\n",
    "    ]"
   ]
  },
  {
   "cell_type": "markdown",
   "metadata": {},
   "source": [
    "## Useful functions"
   ]
  },
  {
   "cell_type": "code",
   "execution_count": 41,
   "metadata": {},
   "outputs": [],
   "source": [
    "Individual = namedtuple('Individual',('genome','fitness'))\n",
    "#Individual = one candidate solution with it's associated fitness\n",
    "#genome = list/tuple of 0/1 that shows if a list in P=problem(N,seed) is taken or not\n",
    "#fitness = weight associated to the solution\n",
    "\n",
    "def initialize_population(N, P, population_size, problem_size, threshold=0): #by default start with empty solutions, can be changed\n",
    "    population = list()\n",
    "    for _ in range(population_size):\n",
    "        genome=list()\n",
    "        for __ in range(problem_size):\n",
    "            if random.random() > threshold:\n",
    "                genome.append(0)\n",
    "            else: genome.append(1)\n",
    "        genome=tuple(genome)\n",
    "        population.append(Individual(genome,evaluate(N,P,genome)))\n",
    "    return population\n",
    "\n",
    "def evaluate(P,genome):\n",
    "    solution = list()\n",
    "    for i, el in enumerate(genome):\n",
    "        if el == 1: solution.append(P[i])\n",
    "    cnt=Counter()\n",
    "    cnt.update(sum((e for e in solution), start=()))\n",
    "    return len(cnt), -sum(len(el) for el in solution)\n",
    "\n",
    "def tournament(population, tournament_size=2):\n",
    "    return max(random.choices(population, k=tournament_size), key=lambda i: i.fitness)\n",
    "\n",
    "def crossover(g1,g2,len_P):\n",
    "    cut = random.randint(0, len_P)\n",
    "    return g1.genome[:cut] + g2.genome[cut:]\n",
    "\n",
    "#fusion operator from \"A genetic algorithm for the set covering problem\" by Beasley,Chu\n",
    "def fusion(g1,g2,len_P):\n",
    "    o = tuple()\n",
    "    if g1.fitness[1] == 0 and g2.fitness[1] == 0: #if we are at the beginning we use the standard crossover function\n",
    "        return crossover(g1,g2,len_P)\n",
    "    prob = g2.fitness[1]/(g1.fitness[1] + g2.fitness[1])\n",
    "    for el1,el2 in zip(g1.genome,g2.genome):\n",
    "        if el1 == el2: o=o+(el1,)\n",
    "        elif random.random() < prob: o=o+(el1,)\n",
    "        else: o=o+(el2,)\n",
    "    return o\n",
    "\n",
    "def mutation(g,len_P):\n",
    "    point = random.randint(0, len_P - 1)\n",
    "    return g[:point] + (1 - g[point],) + g[point + 1 :]\n",
    "\n",
    "def genome_to_solution(P,genome):\n",
    "    solution = list()\n",
    "    for i,el in enumerate(genome):\n",
    "        if el == 1: solution.append(P[i])\n",
    "    return solution"
   ]
  },
  {
   "cell_type": "markdown",
   "metadata": {},
   "source": [
    "## Genetic Algorithm"
   ]
  },
  {
   "cell_type": "code",
   "execution_count": 30,
   "metadata": {},
   "outputs": [],
   "source": [
    "def genetic_algorithm(\n",
    "    N: int,\n",
    "    P: list, \n",
    "    population_size: int,\n",
    "    offspring_size: int,\n",
    "    crossover_function=crossover,\n",
    "    num_generations=1000,\n",
    "    fixed=True\n",
    "    ):\n",
    "    \n",
    "    #Variables initialization\n",
    "    P = [tuple(_) for _ in P]\n",
    "    problem_size = len(P)\n",
    "    plateau_count = 0 #stores the number of consecutive generations in which the algorithm does not improve\n",
    "    evaluate_count = 0 #stores the number of times the evaluate function is called\n",
    "    random.seed(42)\n",
    "\n",
    "    #Initialize population\n",
    "    population = initialize_population(N, P, population_size, problem_size)\n",
    "    \n",
    "    #Create fitness log\n",
    "    fitness_log = [(0, i.fitness) for i in population]\n",
    "\n",
    "    prob_vett = [0.3,0.5,0.7]\n",
    "    \n",
    "    #Evolution algorithm\n",
    "    for g in range(num_generations):\n",
    "        offspring = list()\n",
    "        for i in range(offspring_size):\n",
    "            #decide the probability of crossover/mutation\n",
    "            if fixed: prob=0.3\n",
    "            elif g//10 > 2: #if fixed=False increase the probabiliy of mutation every 10 generations\n",
    "                prob=0.7\n",
    "            else: prob=prob_vett[g//10]\n",
    "            if random.random() < prob:\n",
    "                p = tournament(population)\n",
    "                o = mutation(p.genome,problem_size)\n",
    "            else:\n",
    "                p1 = tournament(population)\n",
    "                p2 = tournament(population)\n",
    "                o = crossover_function(p1, p2, problem_size)\n",
    "            f = evaluate(N, P, o)\n",
    "            evaluate_count += 1\n",
    "            fitness_log.append((g + 1, f))\n",
    "            offspring.append(Individual(o, f))\n",
    "        population += offspring\n",
    "        population = sorted(population, key=lambda i: i.fitness, reverse=True)[:population_size]\n",
    "        \n",
    "        #check if we have reached a plateau, if we don't improve for 30 generations break\n",
    "        if max(f[1] for f in fitness_log if f[0] == g + 1) <= max(f[1] for f in fitness_log if f[0] == g): plateau_count += 1\n",
    "        else: plateau_count = 0\n",
    "        if plateau_count == 30: break \n",
    "\n",
    "    if population[0].fitness[0] == N: logging.debug(f' Solution found for N={N}: w={population[0].fitness} (bloat={int((-population[0].fitness[1]-N)*100/N)}%) after {g + 1} generations. Evaluate called {evaluate_count} times.')\n",
    "    else: logging.debug('Could not find a valid solution, increase the number of generations.')\n",
    "\n",
    "    return population[0], fitness_log, g+1"
   ]
  },
  {
   "cell_type": "markdown",
   "metadata": {},
   "source": [
    "## Population and Offspring size tuning"
   ]
  },
  {
   "cell_type": "markdown",
   "metadata": {},
   "source": [
    "### One point crossover, fixed crossover/mutation probability"
   ]
  },
  {
   "cell_type": "code",
   "execution_count": 112,
   "metadata": {},
   "outputs": [
    {
     "name": "stderr",
     "output_type": "stream",
     "text": [
      "DEBUG:root:Best solution found for N = 5: (5, -5) with population_size=5 and offspring_size=9 after 41 generations.\n",
      "DEBUG:root:Best solution found for N = 10: (10, -10) with population_size=13 and offspring_size=22 after 35 generations.\n",
      "DEBUG:root:Best solution found for N = 20: (20, -25) with population_size=38 and offspring_size=38 after 42 generations.\n",
      "DEBUG:root:Best solution found for N = 100: (100, -183) with population_size=250 and offspring_size=415 after 42 generations.\n",
      "DEBUG:root:Best solution found for N = 500: (500, -1260) with population_size=1100 and offspring_size=2200 after 57 generations.\n",
      "DEBUG:root:Best solution found for N = 1000: (1000, -3439) with population_size=2500 and offspring_size=3300 after 79 generations.\n"
     ]
    }
   ],
   "source": [
    "logging.getLogger().setLevel(logging.INFO)\n",
    "all = list()\n",
    "SEED = 42\n",
    "\n",
    "for N in [5, 10, 20, 100, 500, 1000]:\n",
    "    best = None\n",
    "    for population_coefficient in linspace(1, 2.5, 6):\n",
    "        population_size = math.ceil(population_coefficient * N)\n",
    "        for offspring_coefficient in linspace(0.3, 2, 6):\n",
    "            random.seed(42) #set the seed here to guarantee reproducible results outside of this for loops\n",
    "            offspring_size = math.ceil(offspring_coefficient * population_size)\n",
    "            _, fitness_log, generations = genetic_algorithm(N,problem(N,SEED), crossover_function=crossover, population_size=population_size, offspring_size=offspring_size)\n",
    "            if best is None or max(f[1] for f in fitness_log if f[0] == generations) > best[0]:\n",
    "                best = (max(f[1] for f in fitness_log if f[0] == generations), (population_coefficient, offspring_coefficient), generations)\n",
    "            all.append((N, population_coefficient, offspring_coefficient, max(f[1] for f in fitness_log if f[0] == generations), generations))\n",
    "    logging.info(f'Best solution found for N = {N}: {best[0]} with population_size={ math.ceil(best[1][0]*N)} and offspring_size={ math.ceil(best[1][0]*N*best[1][1])} after {best[2]} generations.')"
   ]
  },
  {
   "cell_type": "markdown",
   "metadata": {},
   "source": [
    "### One point crossover, variable crossover/mutation probability"
   ]
  },
  {
   "cell_type": "code",
   "execution_count": 22,
   "metadata": {},
   "outputs": [
    {
     "name": "stderr",
     "output_type": "stream",
     "text": [
      "INFO:root:Best solution found for N = 5: (5, -5) with population_size=5 and offspring_size=10 after 40 generations.\n",
      "INFO:root:Best solution found for N = 10: (10, -10) with population_size=13 and offspring_size=22 after 35 generations.\n",
      "INFO:root:Best solution found for N = 20: (20, -23) with population_size=44 and offspring_size=14 after 90 generations.\n",
      "INFO:root:Best solution found for N = 100: (100, -183) with population_size=221 and offspring_size=66 after 97 generations.\n",
      "INFO:root:Best solution found for N = 500: (500, -1442) with population_size=1100 and offspring_size=1078 after 62 generations.\n",
      "INFO:root:Best solution found for N = 1000: (1000, -3400) with population_size=2500 and offspring_size=3300 after 84 generations.\n"
     ]
    }
   ],
   "source": [
    "logging.getLogger().setLevel(logging.INFO)\n",
    "all = list()\n",
    "SEED = 42\n",
    "\n",
    "for N in [5, 10, 20, 100, 500, 1000]:\n",
    "    best = None\n",
    "    for population_coefficient in linspace(1, 2.5, 6):\n",
    "        population_size = math.ceil(population_coefficient * N)\n",
    "        for offspring_coefficient in linspace(0.3, 2, 6):\n",
    "            random.seed(42) #set the seed here to guarantee reproducible results outside of this for loops\n",
    "            offspring_size = math.ceil(offspring_coefficient * population_size)\n",
    "            _, fitness_log, generations = genetic_algorithm(N,problem(N,SEED), crossover_function=crossover, population_size=population_size, offspring_size=offspring_size)\n",
    "            if best is None or max(f[1] for f in fitness_log if f[0] == generations) > best[0]:\n",
    "                best = (max(f[1] for f in fitness_log if f[0] == generations), (population_coefficient, offspring_coefficient), generations)\n",
    "            all.append((N, population_coefficient, offspring_coefficient, max(f[1] for f in fitness_log if f[0] == generations), generations))\n",
    "    logging.info(f'Best solution found for N = {N}: {best[0]} with population_size={ math.ceil(best[1][0]*N)} and offspring_size={ math.ceil(best[1][0]*N*best[1][1])} after {best[2]} generations.')"
   ]
  },
  {
   "cell_type": "markdown",
   "metadata": {},
   "source": [
    "### Fusion crossover, fixed crossover/mutation probability"
   ]
  },
  {
   "cell_type": "code",
   "execution_count": null,
   "metadata": {},
   "outputs": [
    {
     "name": "stderr",
     "output_type": "stream",
     "text": [
      "INFO:root:Best solution found for N = 5: (5, -5) with population_size=5 and offspring_size=2 after 133 generations.\n",
      "INFO:root:Best solution found for N = 10: (10, -10) with population_size=19 and offspring_size=13 after 44 generations.\n",
      "INFO:root:Best solution found for N = 20: (20, -24) with population_size=38 and offspring_size=76 after 39 generations.\n",
      "INFO:root:Best solution found for N = 100: (100, -187) with population_size=190 and offspring_size=380 after 46 generations.\n"
     ]
    }
   ],
   "source": [
    "#computationally very expensive, obtains results comparable with those found with the \"standard\" crossover\n",
    "logging.getLogger().setLevel(logging.INFO)\n",
    "SEED = 42\n",
    "all = list()\n",
    "SEED = 42\n",
    "\n",
    "for N in [5, 10, 20, 100]:\n",
    "    best = None\n",
    "    for population_coefficient in linspace(1, 2.5, 6):\n",
    "        population_size = math.ceil(population_coefficient * N)\n",
    "        for offspring_coefficient in linspace(0.3, 2, 6):\n",
    "            random.seed(42) #set the seed here to guarantee reproducible results outside of this for loops\n",
    "            offspring_size = math.ceil(offspring_coefficient * population_size)\n",
    "            _, fitness_log, generations = genetic_algorithm(N,problem(N,SEED), crossover_function=fusion, population_size=population_size, offspring_size=offspring_size)\n",
    "            if best is None or max(f[1] for f in fitness_log if f[0] == generations) > best[0]:\n",
    "                best = (max(f[1] for f in fitness_log if f[0] == generations), (population_coefficient, offspring_coefficient), generations)\n",
    "            all.append((N, population_coefficient, offspring_coefficient, max(f[1] for f in fitness_log if f[0] == generations), generations))\n",
    "    logging.info(f'Best solution found for N = {N}: {best[0]} with population_size={ math.ceil(best[1][0]*N)} and offspring_size={ math.ceil(best[1][0]*N*best[1][1])} after {best[2]} generations.')"
   ]
  },
  {
   "cell_type": "markdown",
   "metadata": {},
   "source": [
    "## Results"
   ]
  },
  {
   "cell_type": "markdown",
   "metadata": {},
   "source": [
    "- population_size = 2*N  \n",
    "- offspring_size = N  \n",
    "- standard crossover  \n",
    "- fixed crossover/mutation probability  \n",
    "- plateau check (stops after 30 generations with no improvment, max 1000 generations)  \n",
    "\n",
    "`INFO:root: Solution found for N=5: w=(5, -5) (bloat=0%) after 33 generations.`  \n",
    "`INFO:root: Solution found for N=10: w=(10, -10) (bloat=0%) after 44 generations.`  \n",
    "`INFO:root: Solution found for N=20: w=(20, -24) (bloat=20%) after 43 generations.`  \n",
    "`INFO:root: Solution found for N=100: w=(100, -203) (bloat=103%) after 82 generations.`  \n",
    "`INFO:root: Solution found for N=500: w=(500, -1596) (bloat=219%) after 81 generations.`  \n",
    "`INFO:root: Solution found for N=1000: w=(1000, -3736) (bloat=273%) after 83 generations.`  "
   ]
  },
  {
   "cell_type": "markdown",
   "metadata": {},
   "source": [
    "- population_size = 2*N  \n",
    "- offspring_size = N  \n",
    "- fusion_crossover  \n",
    "- fixed crossover/mutation probability  \n",
    "- with plateau check (stops after 30 generations with no improvment, max 1000 generations)   \n",
    "\n",
    "`INFO:root: Solution found for N=5: w=(5, -5) (bloat=0%) after 34 generations.`  \n",
    "`INFO:root: Solution found for N=10: w=(10, -10) (bloat=0%) after 40 generations.`  \n",
    "`INFO:root: Solution found for N=20: w=(20, -24) (bloat=20%) after 50 generations.`  \n",
    "`INFO:root: Solution found for N=100: w=(100, -205) (bloat=105%) after 119 generations.`  \n",
    "`INFO:root: Solution found for N=500: w=(500, -1724) (bloat=244%) after 98 generations.`  \n",
    "`INFO:root: Solution found for N=1000: w=(1000, -3912) (bloat=291%) after 113 generations.`  "
   ]
  },
  {
   "cell_type": "markdown",
   "metadata": {},
   "source": [
    "- standard crossover  \n",
    "- with plateau check (stops after 30 generations with no improvment, max 1000 generations)  \n",
    "- fixed crossover/mutation probability  \n",
    "- *with population_size and offspring_size tuning*  \n",
    "\n",
    "`DEBUG:root:Best solution found for N = 5: (5, -5) with population_size=5 and offspring_size=9 after 41 generations.`  \n",
    "`DEBUG:root:Best solution found for N = 10: (10, -10) with population_size=13 and offspring_size=22 after 35 generations.`  \n",
    "`DEBUG:root:Best solution found for N = 20: (20, -25) with population_size=38 and offspring_size=38 after 42 generations.`  \n",
    "`DEBUG:root:Best solution found for N = 100: (100, -183) with population_size=250 and offspring_size=415 after 42 generations.`  \n",
    "`DEBUG:root:Best solution found for N = 500: (500, -1260) with population_size=1100 and offspring_size=2200 after 57 generations.`  \n",
    "`DEBUG:root:Best solution found for N = 1000: (1000, -3439) with population_size=2500 and offspring_size=3300 after 79 generations.`  "
   ]
  },
  {
   "cell_type": "markdown",
   "metadata": {},
   "source": [
    "- standard crossover  \n",
    "- with plateau check (stops after 30 generations with no improvment, max 1000 generations)  \n",
    "- variable crossover/mutation probability  \n",
    "- *with population_size and offspring_size tuning*  \n",
    "`DEBUG:root: Solution found for N=5: w=(5, -5) (bloat=0%) after 40 generations. Evaluate called 400 times.`  \n",
    "`DEBUG:root: Solution found for N=10: w=(10, -10) (bloat=0%) after 35 generations. Evaluate called 770 times.`  \n",
    "`DEBUG:root: Solution found for N=20: w=(20, -23) (bloat=15%) after 90 generations. Evaluate called 1260 times.`  \n",
    "`DEBUG:root: Solution found for N=100: w=(100, -183) (bloat=83%) after 43 generations. Evaluate called 17845 times.`  \n",
    "`DEBUG:root: Solution found for N=500: w=(500, -1442) (bloat=188%) after 62 generations. Evaluate called 66836 times.`  \n",
    "`DEBUG:root: Solution found for N=1000: w=(1000, -3400) (bloat=240%) after 84 generations. Evaluate called 277200 times.`  "
   ]
  },
  {
   "cell_type": "markdown",
   "metadata": {},
   "source": [
    "## Reproduce and visualize results"
   ]
  },
  {
   "cell_type": "code",
   "execution_count": 180,
   "metadata": {},
   "outputs": [
    {
     "name": "stderr",
     "output_type": "stream",
     "text": [
      "DEBUG:root: Solution found for N=5: w=(5, -5) (bloat=0%) after 41 generations. Evaluate called 369 times.\n",
      "DEBUG:root: Solution found for N=10: w=(10, -10) (bloat=0%) after 35 generations. Evaluate called 770 times.\n",
      "DEBUG:root: Solution found for N=20: w=(20, -25) (bloat=25%) after 42 generations. Evaluate called 1596 times.\n",
      "DEBUG:root: Solution found for N=100: w=(100, -183) (bloat=83%) after 42 generations. Evaluate called 17430 times.\n",
      "DEBUG:root: Solution found for N=500: w=(500, -1260) (bloat=152%) after 57 generations. Evaluate called 125400 times.\n",
      "DEBUG:root: Solution found for N=1000: w=(1000, -3439) (bloat=243%) after 79 generations. Evaluate called 260700 times.\n"
     ]
    }
   ],
   "source": [
    "# Results obtained using tuned population and offspring size with standard crossover and fixed=True\n",
    "# It's worth to notice that for almost all Ns the best results are obtained when the offspring size is bigger than the population size\n",
    "SEED = 42\n",
    "N = [5, 10, 20, 100, 500, 1000]\n",
    "pop_off = [(5,9),(13,22),(38,38),(250,415),(1100,2200),(2500,3300)]\n",
    "d = dict(zip(N,pop_off))\n",
    "logging.getLogger().setLevel(logging.DEBUG)\n",
    "for el in d.keys():\n",
    "    random.seed(42)\n",
    "    sol,fitness_log,gen=genetic_algorithm(el,problem(el,SEED), population_size=d[el][0], offspring_size=d[el][1], crossover_function=crossover)"
   ]
  },
  {
   "cell_type": "code",
   "execution_count": 39,
   "metadata": {},
   "outputs": [
    {
     "name": "stderr",
     "output_type": "stream",
     "text": [
      "DEBUG:root: Solution found for N=5: w=(5, -5) (bloat=0%) after 40 generations. Evaluate called 400 times.\n",
      "DEBUG:root: Solution found for N=10: w=(10, -10) (bloat=0%) after 35 generations. Evaluate called 770 times.\n",
      "DEBUG:root: Solution found for N=20: w=(20, -23) (bloat=15%) after 90 generations. Evaluate called 1260 times.\n",
      "DEBUG:root: Solution found for N=100: w=(100, -183) (bloat=83%) after 43 generations. Evaluate called 17845 times.\n",
      "DEBUG:root: Solution found for N=500: w=(500, -1442) (bloat=188%) after 62 generations. Evaluate called 66836 times.\n",
      "DEBUG:root: Solution found for N=1000: w=(1000, -3400) (bloat=240%) after 84 generations. Evaluate called 277200 times.\n"
     ]
    }
   ],
   "source": [
    "# Results obtained using tuned population and offspring size with standard crossover and fixed=False\n",
    "# It's worth to notice that for almost all Ns the best results are obtained when the offspring size is bigger than the population size\n",
    "SEED = 42\n",
    "N = [5, 10, 20, 100, 500, 1000]\n",
    "pop_off = [(5,10),(13,22),(44,14),(250,415),(1100,1078),(2500,3300)]\n",
    "d = dict(zip(N,pop_off))\n",
    "logging.getLogger().setLevel(logging.DEBUG)\n",
    "for el in d.keys():\n",
    "    random.seed(42)\n",
    "    sol,fitness_log,gen=genetic_algorithm(el,problem(el,SEED), population_size=d[el][0], offspring_size=d[el][1], crossover_function=crossover, fixed=False)"
   ]
  },
  {
   "cell_type": "code",
   "execution_count": 182,
   "metadata": {},
   "outputs": [
    {
     "name": "stderr",
     "output_type": "stream",
     "text": [
      "DEBUG:root: Solution found for N=5: w=(5, -6) (bloat=20%) after 45 generations. Evaluate called 225 times.\n",
      "DEBUG:root: Solution found for N=10: w=(10, -10) (bloat=0%) after 47 generations. Evaluate called 470 times.\n",
      "DEBUG:root: Solution found for N=20: w=(20, -33) (bloat=65%) after 38 generations. Evaluate called 760 times.\n",
      "DEBUG:root: Solution found for N=100: w=(100, -207) (bloat=107%) after 88 generations. Evaluate called 8800 times.\n",
      "DEBUG:root: Solution found for N=500: w=(500, -1615) (bloat=223%) after 75 generations. Evaluate called 37500 times.\n",
      "DEBUG:root: Solution found for N=1000: w=(1000, -3459) (bloat=245%) after 113 generations. Evaluate called 113000 times.\n"
     ]
    }
   ],
   "source": [
    "# Results obtained with population_size=2*N and offspring_size=N\n",
    "SEED = 42\n",
    "N = [5, 10, 20, 100, 500, 1000]\n",
    "logging.getLogger().setLevel(logging.DEBUG)\n",
    "for n in N:\n",
    "    random.seed(42)\n",
    "    sol,fitness_log,gen=genetic_algorithm(n,problem(n,SEED), population_size=2*n, offspring_size=n, crossover_function=crossover)"
   ]
  },
  {
   "cell_type": "code",
   "execution_count": 7,
   "metadata": {},
   "outputs": [
    {
     "name": "stderr",
     "output_type": "stream",
     "text": [
      "DEBUG:root: Solution found for N=100: w=(100, -183) (bloat=83%) after 42 generations. Evaluate called 17430 times.\n"
     ]
    },
    {
     "name": "stdout",
     "output_type": "stream",
     "text": [
      "[[1, 2, 5, 6, 11, 13, 17, 27, 30, 33, 36, 39, 45, 46, 50, 51, 55, 58, 59, 60, 63, 64, 65, 68, 74, 76, 83, 86, 93, 97], [0, 1, 8, 9, 11, 12, 13, 15, 16, 17, 18, 27, 28, 29, 38, 40, 43, 47, 48, 49, 54, 56, 61, 66, 67, 72, 75, 82, 86, 87, 88, 89, 93, 96, 99], [1, 4, 7, 11, 14, 16, 17, 20, 21, 22, 24, 25, 27, 28, 29, 34, 35, 37, 42, 43, 45, 47, 49, 52, 53, 58, 59, 60, 62, 66, 70, 72, 73, 75, 77, 78, 80, 81, 88, 92, 93, 97], [0, 6, 15, 29, 30, 36, 38, 43, 44, 45, 57, 58, 64, 68, 72, 73, 74, 76, 80, 83, 85, 91, 94, 95, 96], [0, 4, 5, 10, 11, 15, 16, 17, 20, 21, 23, 26, 31, 32, 37, 38, 40, 46, 54, 56, 57, 64, 66, 68, 69, 71, 73, 76, 83, 84, 88, 96], [1, 3, 11, 19, 20, 26, 33, 41, 50, 55, 69, 70, 73, 75, 79, 80, 90, 97, 98]]\n"
     ]
    },
    {
     "data": {
      "text/plain": [
       "[<matplotlib.lines.Line2D at 0x15cb10b37f0>]"
      ]
     },
     "execution_count": 7,
     "metadata": {},
     "output_type": "execute_result"
    },
    {
     "data": {
      "image/png": "[encoded data removed]",
      "text/plain": [
       "<Figure size 1500x600 with 1 Axes>"
      ]
     },
     "metadata": {},
     "output_type": "display_data"
    }
   ],
   "source": [
    "#Explicit soution and plot for N=100, population_size=250 and offspring_size=415\n",
    "SEED=42\n",
    "N=100\n",
    "random.seed(SEED)\n",
    "logging.getLogger().setLevel(logging.DEBUG)\n",
    "sol,fitness_log,gen=genetic_algorithm(N,problem(N,SEED), population_size=250, offspring_size=415, crossover_function=crossover)\n",
    "print(genome_to_solution(problem(N,SEED),sol.genome))\n",
    "x = [x for x, _ in fitness_log]\n",
    "y = [-y[1] for _, y in fitness_log]\n",
    "df = pd.DataFrame(x, columns=['x'])\n",
    "df['y'] = y\n",
    "df = df.groupby('x').min()\n",
    "plt.figure(figsize=(15, 6))\n",
    "plt.xlabel('Generation', fontsize=18)\n",
    "plt.ylabel('Lists Length', fontsize=16)\n",
    "plt.scatter([x for x, _ in fitness_log], [-y[1] for _, y in fitness_log], marker=\".\")\n",
    "plt.plot(df.index, df['y'])"
   ]
  }
 ],
 "metadata": {
  "kernelspec": {
   "display_name": "Python 3.9.13 64-bit (microsoft store)",
   "language": "python",
   "name": "python3"
  },
  "language_info": {
   "codemirror_mode": {
    "name": "ipython",
    "version": 3
   },
   "file_extension": ".py",
   "mimetype": "text/x-python",
   "name": "python",
   "nbconvert_exporter": "python",
   "pygments_lexer": "ipython3",
   "version": "3.9.13"
  },
  "orig_nbformat": 4,
  "vscode": {
   "interpreter": {
    "hash": "006c9a256d11bcb0c3194b67b6dd4253f125bec1d01822ebb3a5ddb0c9f9fa2c"
   }
  }
 },
 "nbformat": 4,
 "nbformat_minor": 2
}
