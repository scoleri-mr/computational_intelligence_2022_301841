{
 "cells": [
  {
   "cell_type": "markdown",
   "metadata": {},
   "source": [
    "# Lab3\n",
    "### Task\n",
    "Write agents able to play Nim, with an arbitrary number of rows and an upper bound  on the number of objects that can be removed in a turn (a.k.a., subtraction game).  \n",
    "The player taking the last object wins.  \n",
    "\n",
    "- Task3.1: An agent using fixed rules based on nim-sum (i.e., an expert system)\n",
    "- Task3.2: An agent using evolved rules\n",
    "- Task3.3: An agent using minmax\n",
    "- Task3.4: An agent using reinforcement learning"
   ]
  },
  {
   "cell_type": "markdown",
   "metadata": {},
   "source": [
    "## Classes and functions"
   ]
  },
  {
   "cell_type": "code",
   "execution_count": 1,
   "metadata": {},
   "outputs": [],
   "source": [
    "import logging\n",
    "from collections import namedtuple\n",
    "import random\n",
    "from typing import Callable\n",
    "from copy import deepcopy\n",
    "from itertools import accumulate\n",
    "from operator import xor, or_, and_, not_\n",
    "import numpy as np\n",
    "from matplotlib import pyplot as plt\n",
    "import pickle"
   ]
  },
  {
   "cell_type": "code",
   "execution_count": 2,
   "metadata": {},
   "outputs": [],
   "source": [
    "Nimply = namedtuple(\"Nimply\", \"row, num_objects\")"
   ]
  },
  {
   "cell_type": "code",
   "execution_count": 3,
   "metadata": {},
   "outputs": [],
   "source": [
    "class Nim:\n",
    "    def __init__(self, num_rows: int, k: int = None) -> None:\n",
    "        self._rows = [i * 2 + 1 for i in range(num_rows)]\n",
    "        self._k = k\n",
    "\n",
    "    def __bool__(self):\n",
    "        return sum(self._rows) > 0\n",
    "\n",
    "    def __str__(self):\n",
    "        return \"<\" + \" \".join(str(_) for _ in self._rows) + \">\"\n",
    "\n",
    "    @property\n",
    "    def rows(self) -> tuple:\n",
    "        return tuple(self._rows)\n",
    "\n",
    "    @property\n",
    "    def k(self) -> int:\n",
    "        return self._k\n",
    "\n",
    "    def nimming(self, ply: Nimply) -> None:\n",
    "        row, num_objects = ply\n",
    "        assert self._rows[row] >= num_objects\n",
    "        assert self._k is None or num_objects <= self._k\n",
    "        self._rows[row] -= num_objects"
   ]
  },
  {
   "cell_type": "code",
   "execution_count": 4,
   "metadata": {},
   "outputs": [],
   "source": [
    "def nim_sum(state: Nim) -> int:\n",
    "    *_, result = accumulate(state.rows, xor)\n",
    "    return result\n",
    "\n",
    "def cook_status(state: Nim) -> dict:\n",
    "    cooked = dict()\n",
    "    cooked[\"possible_moves\"] = [(r, o) for r, c in enumerate(state.rows) for o in range(1, c + 1) if state.k is None or o <= state.k]\n",
    "    cooked[\"shortest_row\"] = min((x for x in enumerate(state.rows) if x[1] > 0), key=lambda y: y[1])[0]\n",
    "    cooked[\"longest_row\"] = max((x for x in enumerate(state.rows)), key=lambda y: y[1])[0]\n",
    "    cooked[\"nim_sum\"] = nim_sum(state)\n",
    "\n",
    "\n",
    "    brute_force = list()\n",
    "    for m in cooked[\"possible_moves\"]:\n",
    "        tmp = deepcopy(state)\n",
    "        tmp.nimming(m)\n",
    "        brute_force.append((m, nim_sum(tmp)))\n",
    "    cooked[\"brute_force\"] = brute_force\n",
    "\n",
    "    return cooked"
   ]
  },
  {
   "cell_type": "code",
   "execution_count": 5,
   "metadata": {},
   "outputs": [],
   "source": [
    "def pure_random(state: Nim) -> Nimply:\n",
    "    row = random.choice([r for r, c in enumerate(state.rows) if c > 0])\n",
    "    num_objects = random.randint(1, state.rows[row])\n",
    "    return Nimply(row, num_objects)"
   ]
  },
  {
   "cell_type": "code",
   "execution_count": 6,
   "metadata": {},
   "outputs": [],
   "source": [
    "def evaluate(strategy1: Callable, strategy2: Callable, num_matches=100, nim_size=5) -> float:\n",
    "    opponent = (strategy1, strategy2)\n",
    "    won = 0\n",
    "\n",
    "    for m in range(num_matches):\n",
    "        m+=1\n",
    "        nim = Nim(nim_size)\n",
    "        player = random.choice([0,1])\n",
    "        while nim:\n",
    "            ply = opponent[player](nim)\n",
    "            nim.nimming(ply)\n",
    "            player = 1 - player\n",
    "        if player == 1:\n",
    "            won += 1\n",
    "    return won / num_matches"
   ]
  },
  {
   "cell_type": "code",
   "execution_count": 7,
   "metadata": {},
   "outputs": [],
   "source": [
    "def play_game(nim_size=5, strategy1=pure_random, strategy2=pure_random):   \n",
    "    logging.getLogger().setLevel(logging.INFO)\n",
    "\n",
    "    strategy = (strategy1, strategy2)\n",
    "\n",
    "    nim = Nim(nim_size)\n",
    "    logging.info(f\"status: Initial board  -> {nim}\")\n",
    "    player = 0\n",
    "    while nim:\n",
    "        ply = strategy[player](nim)\n",
    "        nim.nimming(ply)\n",
    "        logging.info(f\"status: After player {player} -> {nim}\")\n",
    "        player = 1 - player\n",
    "    winner = 1 - player\n",
    "    logging.info(f\"status: Player {winner} won!\")\n",
    "    return"
   ]
  },
  {
   "cell_type": "code",
   "execution_count": 8,
   "metadata": {},
   "outputs": [],
   "source": [
    "def optimal_strategy(state: Nim) -> Nimply:\n",
    "    'optimal strategy with nim sum'\n",
    "    data = cook_status(state)\n",
    "    return next((bf for bf in data[\"brute_force\"] if bf[1] == 0), random.choice(data[\"brute_force\"]))[0]"
   ]
  },
  {
   "cell_type": "markdown",
   "metadata": {},
   "source": [
    "## 3.0: Let's try some basic hard-coded rules first"
   ]
  },
  {
   "cell_type": "code",
   "execution_count": 193,
   "metadata": {},
   "outputs": [],
   "source": [
    "def make_strategy(genome: dict) -> Callable:\n",
    "    def evolvable(state: Nim) -> Nimply:\n",
    "        data = cook_status(state)\n",
    "        if len([el for el in state.rows if el !=0]) == 2: #if i only have two lines left with objects\n",
    "            ply = Nimply(data[\"longest_row\"], state.rows[data[\"longest_row\"]]-state.rows[data[\"shortest_row\"]]) #always make lines even\n",
    "        elif sum([el for el in state.rows])%2 == 1: #if the sum of the elements is odd\n",
    "            for m in data[\"possible_moves\"]:    #make a move that will make it even\n",
    "                tmp=deepcopy(state)\n",
    "                tmp.nimming(m)\n",
    "                if sum([el for el in tmp.rows])%2  == 0:\n",
    "                    ply = Nimply(m[0],m[1])\n",
    "        elif random.random() < genome[\"p\"]:\n",
    "            ply = Nimply(data[\"shortest_row\"], random.randint(1, state.rows[data[\"shortest_row\"]]))\n",
    "        else:\n",
    "            ply = Nimply(data[\"longest_row\"], random.randint(1, state.rows[data[\"longest_row\"]]))\n",
    "\n",
    "        return ply\n",
    "\n",
    "    return evolvable"
   ]
  },
  {
   "cell_type": "code",
   "execution_count": 23,
   "metadata": {},
   "outputs": [
    {
     "name": "stderr",
     "output_type": "stream",
     "text": [
      "DEBUG:root:status: Initial board  -> <1 3 5 7 9 11 13 15 17 19 21>\n",
      "DEBUG:root:status: After player 0 -> <1 3 5 7 9 11 13 15 17 19 0>\n",
      "DEBUG:root:status: After player 1 -> <1 3 5 7 9 11 13 15 17 4 0>\n",
      "DEBUG:root:status: After player 0 -> <1 3 5 7 9 11 13 15 17 1 0>\n",
      "DEBUG:root:status: After player 1 -> <0 3 5 7 9 11 13 15 17 1 0>\n",
      "DEBUG:root:status: After player 0 -> <0 3 5 7 9 11 13 15 17 0 0>\n",
      "DEBUG:root:status: After player 1 -> <0 3 5 7 3 11 13 15 17 0 0>\n",
      "DEBUG:root:status: After player 0 -> <0 3 5 7 3 11 13 15 12 0 0>\n",
      "DEBUG:root:status: After player 1 -> <0 3 2 7 3 11 13 15 12 0 0>\n",
      "DEBUG:root:status: After player 0 -> <0 3 2 7 3 11 13 13 12 0 0>\n",
      "DEBUG:root:status: After player 1 -> <0 3 2 7 3 11 13 1 12 0 0>\n",
      "DEBUG:root:status: After player 0 -> <0 3 2 7 3 11 7 1 12 0 0>\n",
      "DEBUG:root:status: After player 1 -> <0 0 2 7 3 11 7 1 12 0 0>\n",
      "DEBUG:root:status: After player 0 -> <0 0 2 7 3 11 7 1 1 0 0>\n",
      "DEBUG:root:status: After player 1 -> <0 0 2 2 3 11 7 1 1 0 0>\n",
      "DEBUG:root:status: After player 0 -> <0 0 2 2 3 11 7 1 0 0 0>\n",
      "DEBUG:root:status: After player 1 -> <0 0 2 2 3 6 7 1 0 0 0>\n",
      "DEBUG:root:status: After player 0 -> <0 0 2 2 3 6 7 0 0 0 0>\n",
      "DEBUG:root:status: After player 1 -> <0 0 1 2 3 6 7 0 0 0 0>\n",
      "DEBUG:root:status: After player 0 -> <0 0 1 2 3 6 0 0 0 0 0>\n",
      "DEBUG:root:status: After player 1 -> <0 0 1 2 3 1 0 0 0 0 0>\n",
      "DEBUG:root:status: After player 0 -> <0 0 1 2 3 0 0 0 0 0 0>\n",
      "DEBUG:root:status: After player 1 -> <0 0 1 1 3 0 0 0 0 0 0>\n",
      "DEBUG:root:status: After player 0 -> <0 0 1 1 0 0 0 0 0 0 0>\n",
      "DEBUG:root:status: After player 1 -> <0 0 0 1 0 0 0 0 0 0 0>\n",
      "DEBUG:root:status: After player 0 -> <0 0 0 0 0 0 0 0 0 0 0>\n",
      "INFO:root:status: Player 0 won!\n"
     ]
    }
   ],
   "source": [
    "play_game(11,make_strategy({\"p\":0.3}), pure_random)"
   ]
  },
  {
   "cell_type": "markdown",
   "metadata": {},
   "source": [
    "### Evaluation hard coded strategy\n",
    "The two simple rules to make lines sum to an even number and to always make the last two lines contain the same number of objects allows us to win more than 90% of the matches against a random strategy and the optimal strategy."
   ]
  },
  {
   "cell_type": "code",
   "execution_count": 14,
   "metadata": {},
   "outputs": [
    {
     "name": "stdout",
     "output_type": "stream",
     "text": [
      "0.96\n"
     ]
    }
   ],
   "source": [
    "print(evaluate(make_strategy({\"p\":0.3}),pure_random))"
   ]
  },
  {
   "cell_type": "code",
   "execution_count": 47,
   "metadata": {},
   "outputs": [
    {
     "name": "stdout",
     "output_type": "stream",
     "text": [
      "0.95\n"
     ]
    }
   ],
   "source": [
    "print(evaluate(make_strategy({\"p\":0.3}),optimal_strategy))"
   ]
  },
  {
   "cell_type": "markdown",
   "metadata": {},
   "source": [
    "## 3.1: An agent using fixed rules based on nim-sum (i.e., an expert system)"
   ]
  },
  {
   "cell_type": "code",
   "execution_count": 228,
   "metadata": {},
   "outputs": [],
   "source": [
    "def fixed_optimal_strategy(state: Nim) -> Nimply:\n",
    "    data = cook_status(state)\n",
    "    optimal_moves = [bf for bf in data[\"brute_force\"] if bf[1] == 0]\n",
    "    return random.choice(optimal_moves)[0] if len(optimal_moves) > 0 else make_strategy({\"p\":0.3})(state)"
   ]
  },
  {
   "cell_type": "code",
   "execution_count": 229,
   "metadata": {},
   "outputs": [
    {
     "name": "stderr",
     "output_type": "stream",
     "text": [
      "INFO:root:status: Initial board  -> <1 3 5 7 9 11 13 15 17 19 21>\n",
      "INFO:root:status: After player 0 -> <1 3 5 7 9 11 13 15 16 19 21>\n",
      "INFO:root:status: After player 1 -> <1 3 5 7 9 11 13 15 16 5 21>\n",
      "INFO:root:status: After player 0 -> <1 3 5 7 9 11 13 15 16 0 21>\n",
      "INFO:root:status: After player 1 -> <1 3 0 7 9 11 13 15 16 0 21>\n",
      "INFO:root:status: After player 0 -> <1 3 0 7 9 11 13 15 16 0 3>\n",
      "INFO:root:status: After player 1 -> <1 3 0 7 9 11 13 15 6 0 3>\n",
      "INFO:root:status: After player 0 -> <1 3 0 7 9 8 13 15 6 0 3>\n",
      "INFO:root:status: After player 1 -> <1 3 0 7 9 8 13 12 6 0 3>\n",
      "INFO:root:status: After player 0 -> <1 3 0 7 9 8 13 12 2 0 3>\n",
      "INFO:root:status: After player 1 -> <1 3 0 3 9 8 13 12 2 0 3>\n",
      "INFO:root:status: After player 0 -> <1 3 0 3 9 8 13 4 2 0 3>\n",
      "INFO:root:status: After player 1 -> <1 3 0 3 9 8 5 4 2 0 3>\n",
      "INFO:root:status: After player 0 -> <1 3 0 3 9 8 5 1 2 0 3>\n",
      "INFO:root:status: After player 1 -> <1 3 0 3 9 8 0 1 2 0 3>\n",
      "INFO:root:status: After player 0 -> <1 3 0 3 9 8 0 0 2 0 3>\n",
      "INFO:root:status: After player 1 -> <1 2 0 3 9 8 0 0 2 0 3>\n",
      "INFO:root:status: After player 0 -> <1 2 0 3 7 8 0 0 2 0 3>\n",
      "INFO:root:status: After player 1 -> <1 2 0 3 7 6 0 0 2 0 3>\n",
      "INFO:root:status: After player 0 -> <1 2 0 1 7 6 0 0 2 0 3>\n",
      "INFO:root:status: After player 1 -> <1 2 0 1 7 4 0 0 2 0 3>\n",
      "INFO:root:status: After player 0 -> <1 2 0 1 7 3 0 0 2 0 3>\n",
      "INFO:root:status: After player 1 -> <1 2 0 1 0 3 0 0 2 0 3>\n",
      "INFO:root:status: After player 0 -> <1 2 0 1 0 3 0 0 2 0 2>\n",
      "INFO:root:status: After player 1 -> <0 2 0 1 0 3 0 0 2 0 2>\n",
      "INFO:root:status: After player 0 -> <0 2 0 0 0 3 0 0 2 0 2>\n",
      "INFO:root:status: After player 1 -> <0 2 0 0 0 2 0 0 2 0 2>\n",
      "INFO:root:status: After player 0 -> <0 2 0 0 0 2 0 0 2 0 1>\n",
      "INFO:root:status: After player 1 -> <0 1 0 0 0 2 0 0 2 0 1>\n",
      "INFO:root:status: After player 0 -> <0 0 0 0 0 2 0 0 2 0 1>\n",
      "INFO:root:status: After player 1 -> <0 0 0 0 0 2 0 0 2 0 0>\n",
      "INFO:root:status: After player 0 -> <0 0 0 0 0 1 0 0 2 0 0>\n",
      "INFO:root:status: After player 1 -> <0 0 0 0 0 1 0 0 1 0 0>\n",
      "INFO:root:status: After player 0 -> <0 0 0 0 0 0 0 0 1 0 0>\n",
      "INFO:root:status: After player 1 -> <0 0 0 0 0 0 0 0 0 0 0>\n",
      "INFO:root:status: Player 1 won!\n"
     ]
    }
   ],
   "source": [
    "play_game(11, pure_random, fixed_optimal_strategy)"
   ]
  },
  {
   "cell_type": "markdown",
   "metadata": {},
   "source": [
    "### Evaluation fixed strategy based on nimsum\n",
    "We can evaluate the fixed strategy based on nim_sum to confirm that it wins all the matches against a random strategy. We can see here that it wins all the matches against the optimal strategy as well."
   ]
  },
  {
   "cell_type": "code",
   "execution_count": 230,
   "metadata": {},
   "outputs": [
    {
     "name": "stdout",
     "output_type": "stream",
     "text": [
      "1.0\n"
     ]
    }
   ],
   "source": [
    "print(evaluate(fixed_optimal_strategy, pure_random, num_matches=200, nim_size=11))"
   ]
  },
  {
   "cell_type": "code",
   "execution_count": 231,
   "metadata": {},
   "outputs": [
    {
     "name": "stdout",
     "output_type": "stream",
     "text": [
      "1.0\n"
     ]
    }
   ],
   "source": [
    "print(evaluate(fixed_optimal_strategy, optimal_strategy, num_matches=200, nim_size=11))"
   ]
  },
  {
   "cell_type": "markdown",
   "metadata": {},
   "source": [
    "## 3.2: An agent using evolved rules"
   ]
  },
  {
   "cell_type": "markdown",
   "metadata": {},
   "source": [
    "Define a semi-optimal strategy so that I can compare the result of the ga with an algorithm that is not optimal but still very close to it."
   ]
  },
  {
   "cell_type": "code",
   "execution_count": 9,
   "metadata": {},
   "outputs": [],
   "source": [
    "def semi_optimal_strategy(state: Nim) -> Nimply:\n",
    "    data = cook_status(state)\n",
    "    if random.random() < 0.75:\n",
    "        return next((bf for bf in data[\"brute_force\"] if bf[1] == 0), random.choice(data[\"brute_force\"]))[0]\n",
    "    else:\n",
    "        row = random.choice([r for r, c in enumerate(state.rows) if c > 0])\n",
    "        num_objects = random.randint(1, state.rows[row])\n",
    "        return Nimply(row, num_objects)"
   ]
  },
  {
   "cell_type": "code",
   "execution_count": 85,
   "metadata": {},
   "outputs": [],
   "source": [
    "from statistics import *\n",
    "\n",
    "def tournament(population, tournament_size=2):\n",
    "    return max(random.choices(population, k=tournament_size), key=lambda i: i.fitness)\n",
    "\n",
    "def crossover(g1,g2,problem_size):\n",
    "    cut = random.randint(0, problem_size) #i have 5 rules\n",
    "    return g1.genome[:cut] + g2.genome[cut:]\n",
    "\n",
    "def mutation(g, problem_size):\n",
    "    point = random.randint(0, problem_size-1)\n",
    "    return g[:point] + [1 - g[point]] + g[point + 1 :]\n",
    "\n",
    "def initialize_population():\n",
    "    return \n",
    "\n",
    "def my_and(rows: tuple) -> int:\n",
    "    *_, result = accumulate(rows, and_)\n",
    "    return result\n",
    "\n",
    "def my_or(rows: tuple) -> int:\n",
    "    *_, result = accumulate(rows, or_)\n",
    "    return result\n",
    "\n",
    "RULES = [sum, min, stdev, my_and, my_or]\n",
    "\n",
    "def evolvable_strategy(genome):\n",
    "    def strategy(state: Nim):\n",
    "        candidate_plays = list()\n",
    "        data=cook_status(state)\n",
    "        possible_moves = data[\"possible_moves\"]\n",
    "        for m in possible_moves:\n",
    "            tmp = deepcopy(state)\n",
    "            tmp.nimming(m)\n",
    "            play = (m, sum(w * op(tmp.rows) for w, op in zip(genome, RULES)))\n",
    "            candidate_plays.append(play)\n",
    "            if play[1] == 0:\n",
    "                return play[0]                                \n",
    "        return min(candidate_plays, key=lambda x: x[1])[0]\n",
    "    return strategy\n",
    "\n",
    "def fitness(genome):\n",
    "    'fitness with semi-optimal strategy'\n",
    "    return (evaluate(evolvable_strategy(genome),semi_optimal_strategy,num_matches=10) , evaluate(evolvable_strategy(genome),pure_random,num_matches=10))"
   ]
  },
  {
   "cell_type": "code",
   "execution_count": 89,
   "metadata": {},
   "outputs": [],
   "source": [
    "def genetic_algorithm(rules: list, fixed=True):\n",
    "    Individual = namedtuple('Individual',('genome','fitness'))\n",
    "    NUM_GENERATIONS = 100\n",
    "    POPULATION_SIZE = 10\n",
    "    OFFSPRING_SIZE = 5\n",
    "    problem_size=len(rules)\n",
    "\n",
    "    #Variables initialization\n",
    "    plateau_count = 0 #stores the number of consecutive generations in which the algorithm does not improve\n",
    "    #Initialize population\n",
    "    population = [Individual(i, fitness(i)) for i in ([random.choice([0,1]) for _ in range(len(RULES))] for _ in range(POPULATION_SIZE))]\n",
    "\n",
    "    #Create fitness log\n",
    "    fitness_log = [(0, i.fitness) for i in population]\n",
    "\n",
    "    prob_vett = [0.3,0.5,0.7]\n",
    "    \n",
    "    #Evolution algorithm\n",
    "    for g in range(NUM_GENERATIONS):\n",
    "        offspring = list()\n",
    "        for i in range(OFFSPRING_SIZE):\n",
    "            #decide the probability of crossover/mutation\n",
    "            if fixed: prob=0.3\n",
    "            elif g//10 > 2: #if fixed=False increase the probabiliy of mutation every 10 generations\n",
    "                prob=0.7\n",
    "            else: prob=prob_vett[g//10]\n",
    "            if random.random() < prob:\n",
    "                p = tournament(population)\n",
    "                o = mutation(p.genome,problem_size)\n",
    "            else:\n",
    "                p1 = tournament(population)\n",
    "                p2 = tournament(population)\n",
    "                o = crossover(p1, p2, problem_size)\n",
    "            f = fitness(o)\n",
    "            fitness_log.append((g + 1, f))\n",
    "            offspring.append(Individual(o, f))\n",
    "        population += offspring\n",
    "        population = sorted(population, key=lambda i: i.fitness, reverse=True)[:POPULATION_SIZE]\n",
    "        #check if we have reached a plateau, if we don't improve for 20 generations break\n",
    "        if max(f[1] for f in fitness_log if f[0] == g + 1) <= max(f[1] for f in fitness_log if f[0] == g): plateau_count += 1\n",
    "        else: plateau_count = 0\n",
    "        if plateau_count == 20: break \n",
    "    logging.info(f\"The best individual is: {population[0]}\")\n",
    "    return evolvable_strategy(population[0].genome)\n"
   ]
  },
  {
   "cell_type": "code",
   "execution_count": 87,
   "metadata": {},
   "outputs": [
    {
     "name": "stderr",
     "output_type": "stream",
     "text": [
      "INFO:root:The best individual is: Individual(genome=[0, 1, 0, 1, 1], fitness=(0.9, 0.7))\n"
     ]
    },
    {
     "name": "stdout",
     "output_type": "stream",
     "text": [
      "<function evolvable_strategy.<locals>.strategy at 0x0000021C2B042CA0>\n"
     ]
    }
   ],
   "source": [
    "logging.getLogger().setLevel(logging.INFO)\n",
    "final_strategy = genetic_algorithm(RULES)\n",
    "print(final_strategy)"
   ]
  },
  {
   "cell_type": "code",
   "execution_count": 88,
   "metadata": {},
   "outputs": [
    {
     "name": "stdout",
     "output_type": "stream",
     "text": [
      "0.84\n",
      "0.47\n",
      "0.0\n"
     ]
    }
   ],
   "source": [
    "print(evaluate(final_strategy,pure_random))\n",
    "print(evaluate(final_strategy,semi_optimal_strategy))\n",
    "print(evaluate(final_strategy,optimal_strategy))"
   ]
  },
  {
   "cell_type": "markdown",
   "metadata": {},
   "source": [
    "## 3.3: An agent using minmax\n",
    "For this agent we use the minmax tecnique with alpha-beta pruning and (possibly) a maximum bound. To improve the performance in terms of computation time we also save the states and their scores in a cache so that if the search comes across a state already seen it can just use the information saved in the cache.  \n",
    "To avoid creating a new cache every time we play a game, we save in different files the caches corresponding to different nim_sizes using pickle. This way if we have played one game we don't have to generate the cache again because we can just load it and play. Saving and loading caches will save us a large amount of time especially for bigger nim_size: for example with nim_size=7 we can play a game in under two seconds. Furthermore generating the cache only once allows us to play without a bound for a bigger N since we only have to play once to create the cache."
   ]
  },
  {
   "cell_type": "code",
   "execution_count": 9,
   "metadata": {},
   "outputs": [],
   "source": [
    "def get_move(state1: Nim, state2: Nim) -> Nimply:\n",
    "    diff=[a-b for a,b in zip(state1.rows, state2.rows)]\n",
    "    row=[index for index, el in enumerate(diff) if el!=0][0]\n",
    "    num_objects=abs(diff[row])\n",
    "    return Nimply(row, num_objects)\n",
    "\n",
    "def possible_new_states(state: Nim):\n",
    "    data=cook_status(state)\n",
    "    possible_new_states = list()\n",
    "    for move in data[\"possible_moves\"]:\n",
    "        tmp=deepcopy(state)\n",
    "        tmp.nimming(move)\n",
    "        possible_new_states.append(tmp)                    \n",
    "    return possible_new_states"
   ]
  },
  {
   "cell_type": "code",
   "execution_count": 10,
   "metadata": {},
   "outputs": [],
   "source": [
    "def minmax(state: Nim, maximizing, alpha=-1, beta=1, bound=5, depth=0):\n",
    "    global cache, hits, misses, use_bound\n",
    "    MAX_CACHE_LENGTH = 1e7\n",
    "\n",
    "    def eval(state: Nim, maximizing):\n",
    "        if sum(state.rows) == 0 or (use_bound==True and depth>=bound):\n",
    "            return -1 if maximizing else 1\n",
    "\n",
    "    if (score := eval(state, maximizing)) is not None:\n",
    "        return score\n",
    "\n",
    "    scores = list()\n",
    "    for new_state in possible_new_states(state):\n",
    "        item = (new_state.rows, not maximizing, alpha, beta)\n",
    "        if item not in cache or len(cache) > MAX_CACHE_LENGTH:\n",
    "            misses += 1\n",
    "            score = minmax(state=new_state, alpha=alpha, beta=beta, maximizing=not maximizing, depth=depth+1)\n",
    "            scores.append(score)\n",
    "            cache.update({item: score})\n",
    "        else:\n",
    "            hits += 1\n",
    "            score = cache[item]\n",
    "            scores.append(score)\n",
    "        if maximizing:\n",
    "            alpha = max(alpha, score)\n",
    "        else:\n",
    "            beta = min(beta, score)\n",
    "        if beta <= alpha:\n",
    "            break\n",
    "    return (max if maximizing else min)(scores)\n",
    "\n",
    "def minmax_strategy(state: Nim):\n",
    "    tmp=deepcopy(state)\n",
    "    for new_state in possible_new_states(state):\n",
    "        score = minmax(new_state, maximizing=False)\n",
    "        if score > 0:\n",
    "            break\n",
    "    return get_move(new_state,tmp)"
   ]
  },
  {
   "cell_type": "code",
   "execution_count": 11,
   "metadata": {},
   "outputs": [],
   "source": [
    "def save_cache(cache: dict, nim_size: int):\n",
    "    filename = \"cache_\" + str(nim_size)\n",
    "    data = open(filename,'wb')\n",
    "    pickle.dump(cache, data)\n",
    "    data.close()\n",
    "    return\n",
    "\n",
    "def load_cache(nim_size: int):\n",
    "    filename = \"cache_\" + str(nim_size)\n",
    "    data = open(filename,'rb')\n",
    "    x = pickle.load(data)\n",
    "    data.close()\n",
    "    return x"
   ]
  },
  {
   "cell_type": "code",
   "execution_count": null,
   "metadata": {},
   "outputs": [
    {
     "name": "stdout",
     "output_type": "stream",
     "text": [
      "Cache for nim_size=3 saved\n",
      "Cache for nim_size=4 saved\n",
      "Cache for nim_size=5 saved\n",
      "Cache for nim_size=6 saved\n",
      "Cache for nim_size=7 saved\n"
     ]
    }
   ],
   "source": [
    "logging.disable(logging.CRITICAL)\n",
    "nim_sizes = [3,4,5,6,7]\n",
    "for size in nim_sizes:\n",
    "    hits = 0\n",
    "    misses = 0\n",
    "    cache = {}\n",
    "    use_bound = False\n",
    "    play_game(size, minmax_strategy, pure_random)\n",
    "    save_cache(cache, size)\n",
    "    print(f\"Cache for nim_size={size} saved\")"
   ]
  },
  {
   "cell_type": "markdown",
   "metadata": {},
   "source": [
    "Now that we have saved the caches for nim_size up to 7 we can play a much faster game using minmax. We just need to upload the cache corrisponding to the dimension we want to play with. Example for nim_size=7:"
   ]
  },
  {
   "cell_type": "code",
   "execution_count": 34,
   "metadata": {},
   "outputs": [
    {
     "name": "stderr",
     "output_type": "stream",
     "text": [
      "INFO:root:status: Initial board  -> <1 3 5 7 9 11 13>\n",
      "INFO:root:status: After player 0 -> <1 3 5 7 6 11 13>\n",
      "INFO:root:status: After player 1 -> <1 1 5 7 6 11 13>\n",
      "INFO:root:status: After player 0 -> <1 1 5 5 6 11 13>\n",
      "INFO:root:status: After player 1 -> <0 1 5 5 6 11 13>\n",
      "INFO:root:status: After player 0 -> <0 0 5 5 6 11 13>\n",
      "INFO:root:status: After player 1 -> <0 0 5 5 0 11 13>\n",
      "INFO:root:status: After player 0 -> <0 0 3 5 0 11 13>\n",
      "INFO:root:status: After player 1 -> <0 0 3 5 0 3 13>\n",
      "INFO:root:status: After player 0 -> <0 0 3 5 0 3 5>\n",
      "INFO:root:status: After player 1 -> <0 0 3 5 0 3 3>\n",
      "INFO:root:status: After player 0 -> <0 0 3 3 0 3 3>\n",
      "INFO:root:status: After player 1 -> <0 0 3 3 0 0 3>\n",
      "INFO:root:status: After player 0 -> <0 0 0 3 0 0 3>\n",
      "INFO:root:status: After player 1 -> <0 0 0 3 0 0 1>\n",
      "INFO:root:status: After player 0 -> <0 0 0 1 0 0 1>\n",
      "INFO:root:status: After player 1 -> <0 0 0 1 0 0 0>\n",
      "INFO:root:status: After player 0 -> <0 0 0 0 0 0 0>\n",
      "INFO:root:status: Player 0 won!\n"
     ]
    },
    {
     "name": "stdout",
     "output_type": "stream",
     "text": [
      "880\n"
     ]
    }
   ],
   "source": [
    "logging.disable(logging.NOTSET)\n",
    "logging.getLogger().setLevel(logging.INFO)\n",
    "nim_size = 7\n",
    "hits = 0\n",
    "misses = 0\n",
    "cache = load_cache(7)\n",
    "use_bound = False\n",
    "play_game(nim_size, minmax_strategy, pure_random)\n",
    "print(hits)"
   ]
  },
  {
   "cell_type": "markdown",
   "metadata": {},
   "source": [
    "### Evaluation minmax strategy\n",
    "About the bound: if we use the cache saved in the files we can play with or without the bound and the results won't change. This is because the depth in the minmax algorithm increases only when we have a miss in the cache but using the saved cache we will not have any misses.  \n",
    "It is more convenient in terms of time to load and visit the saved cache than to create it from scratch and use the bound. Of course for nim_size greater than 7 it becomes very difficult to play even one game without using the bound, so for bigger problems we would need to use it."
   ]
  },
  {
   "cell_type": "code",
   "execution_count": 18,
   "metadata": {},
   "outputs": [
    {
     "data": {
      "text/plain": [
       "1.0"
      ]
     },
     "execution_count": 18,
     "metadata": {},
     "output_type": "execute_result"
    }
   ],
   "source": [
    "#the minmax strategy wins all the games against a random strategy using the saved cache (or without bound)\n",
    "cache = load_cache(5)\n",
    "use_bound = True\n",
    "evaluate(minmax_strategy,pure_random,num_matches=100,nim_size=5)"
   ]
  },
  {
   "cell_type": "code",
   "execution_count": 33,
   "metadata": {},
   "outputs": [
    {
     "name": "stdout",
     "output_type": "stream",
     "text": [
      "0.54\n"
     ]
    }
   ],
   "source": [
    "#the minmax strategy wins about half of the games against the optimal strategy (depending on which player starts)\n",
    "cache = load_cache(5)\n",
    "use_bound = True\n",
    "print(evaluate(minmax_strategy,optimal_strategy,num_matches=100,nim_size=5))"
   ]
  },
  {
   "cell_type": "markdown",
   "metadata": {},
   "source": [
    "## 3.4: An agent using reinforcement learning\n",
    "This tecnique shows an agent training with reinforcement learning against the optimal strategy defined for task 3.2.\n",
    "Unfortunately this method is very game-specific: we need to train a different agent for every nim_size. For the purpose of this lab we will use nim_size = 5 both for training and testing.  \n",
    "WARNING: if we use random.random() instead of the fixed value 0.1 in G.update the algorithm can not win against the optimal (not even one game in 4000)."
   ]
  },
  {
   "cell_type": "code",
   "execution_count": 9,
   "metadata": {},
   "outputs": [],
   "source": [
    "global G\n",
    "G = dict()\n",
    "\n",
    "def choose_move(state: Nim, random_factor: float): #random_factor needs to be 0 after training to choose the best move\n",
    "    data = cook_status(state)\n",
    "    allowed_moves = data['possible_moves']\n",
    "    maxG = -10e15\n",
    "    next_move = None\n",
    "    randomN = random.random()\n",
    "    if randomN < random_factor:\n",
    "        #if random number below random factor, choose random action\n",
    "        next_move = random.choice(list(allowed_moves))\n",
    "        new_state = deepcopy(state)\n",
    "        new_state.nimming(next_move)\n",
    "        G.update({new_state.rows: 0.1 }) if new_state not in G else None\n",
    "    else:\n",
    "        #if exploiting, chose the action with the highest reward\n",
    "        for move in allowed_moves:\n",
    "            new_state = deepcopy(state)\n",
    "            new_state.nimming(move)\n",
    "            G.update({ new_state.rows: 0.1 }) if new_state not in G else None\n",
    "            if G[new_state.rows] >= maxG:\n",
    "                next_move = move\n",
    "                maxG = G[new_state.rows]\n",
    "    return next_move\n",
    "\n",
    "def learn(states_history: list, random_factor: float, learning_rate: float):\n",
    "        target = 0\n",
    "        for prev, reward in reversed(states_history):\n",
    "            G[prev] = G[prev] + learning_rate * (target - G[prev])\n",
    "            target += reward\n",
    "        random_factor -= 10e-5\n",
    "        return random_factor"
   ]
  },
  {
   "cell_type": "code",
   "execution_count": 10,
   "metadata": {},
   "outputs": [],
   "source": [
    "def reinforcement_learning(initial_state: Nim, epochs: int, random_factor: float, learning_rate: float, depth: int = 0, player = 0, plot_wins=True):\n",
    "    states_history = list()\n",
    "    winsHistory = list()\n",
    "    epochs_num = list()\n",
    "    wins = 0\n",
    "    current_state = deepcopy(initial_state)\n",
    "    for i in range(epochs):\n",
    "        player = random.choice([0,1])\n",
    "        while sum(current_state.rows) != 0 : #while the game is still going (no one has won yet)\n",
    "            if not player:\n",
    "                move = optimal_strategy(current_state)\n",
    "                tmp = deepcopy(current_state)\n",
    "                tmp.nimming(move)\n",
    "                if sum(tmp.rows)==0:\n",
    "                    #i need to give the current state a negative reward, the opponent has won\n",
    "                    states_history.pop() #remove the last state because it has reward=0 and I want to associate -1 to that state\n",
    "                    states_history.append((deepcopy(current_state).rows, -1))\n",
    "                current_state.nimming(move)\n",
    "            else: \n",
    "                move = choose_move(deepcopy(current_state), random_factor)\n",
    "                current_state.nimming(move)  \n",
    "                reward = 0 if sum(current_state.rows)!=0 else 1\n",
    "                if reward == 1 : wins+=1\n",
    "                depth += 1 #at the end depth contains the number of moves to win this game\n",
    "                states_history.append((deepcopy(current_state).rows, reward))\n",
    "            player = 1 - player\n",
    "        random_factor= learn(states_history, random_factor, learning_rate)  \n",
    "        states_history = list()\n",
    "        if i % 50 == 0:\n",
    "            winsHistory.append(100*wins/(i+1)) #save percentage of won games\n",
    "            epochs_num.append(i)\n",
    "        current_state = deepcopy(initial_state)\n",
    "        depth = 0\n",
    "    \n",
    "    if plot_wins: \n",
    "        plt.semilogy(epochs_num, winsHistory, \"b\")\n",
    "        plt.xlabel('epochs')\n",
    "        plt.ylabel('won games %')\n",
    "    return winsHistory\n",
    "\n",
    "def reinforcement_learning_strategy(state: Nim, random_factor: float=0):\n",
    "    best_move = choose_move(state, random_factor)\n",
    "    return best_move"
   ]
  },
  {
   "cell_type": "markdown",
   "metadata": {},
   "source": [
    "Here we show some preliminary results"
   ]
  },
  {
   "cell_type": "code",
   "execution_count": 11,
   "metadata": {},
   "outputs": [
    {
     "data": {
      "image/png": "[encoded data removed]",
      "text/plain": [
       "<Figure size 640x480 with 1 Axes>"
      ]
     },
     "metadata": {},
     "output_type": "display_data"
    }
   ],
   "source": [
    "logging.getLogger().setLevel(logging.INFO)\n",
    "initial_state = Nim(5)\n",
    "G = dict()\n",
    "r = reinforcement_learning(initial_state=initial_state, epochs=4000, random_factor=0.2, learning_rate=0.25)\n",
    "#the plot shows the percentage of games won during the training"
   ]
  },
  {
   "cell_type": "code",
   "execution_count": 185,
   "metadata": {},
   "outputs": [
    {
     "data": {
      "text/plain": [
       "0.61"
      ]
     },
     "execution_count": 185,
     "metadata": {},
     "output_type": "execute_result"
    }
   ],
   "source": [
    "evaluate(reinforcement_learning_strategy, pure_random, 200, 5)"
   ]
  },
  {
   "cell_type": "markdown",
   "metadata": {},
   "source": [
    "### Learning rate and random factor tuning\n",
    "We perform a parameter tuning on the random factor and the learning rate with nim_size = 5 and we increase the training epochs to 10000. We chose the best performance against the random strategy even if we train against the optimal. This choice is driven by the observation that the number of wins against the optimal always stays under 5% so we prefer to evaluate the performance against the random."
   ]
  },
  {
   "cell_type": "code",
   "execution_count": 12,
   "metadata": {},
   "outputs": [
    {
     "name": "stdout",
     "output_type": "stream",
     "text": [
      "((0.3, 0.7), 0.655)\n"
     ]
    },
    {
     "data": {
      "image/png": "[encoded data removed]",
      "text/plain": [
       "<Figure size 640x480 with 1 Axes>"
      ]
     },
     "metadata": {},
     "output_type": "display_data"
    }
   ],
   "source": [
    "random_factors = [0.1, 0.2, 0.3]\n",
    "learning_rates = [0.1, 0.3, 0.5, 0.7, 1, 10]\n",
    "results = dict()\n",
    "nim_size = 5\n",
    "for rf in random_factors:\n",
    "    for lr in learning_rates:\n",
    "        reinforcement_learning(initial_state=Nim(nim_size), epochs=10000, random_factor=rf, learning_rate=lr)\n",
    "        results[(rf,lr)] = evaluate(reinforcement_learning_strategy, pure_random, 200, nim_size)\n",
    "best_parameters = max(results.items(), key= lambda x:x[1])\n",
    "print(best_parameters)"
   ]
  },
  {
   "cell_type": "markdown",
   "metadata": {},
   "source": [
    "The picture above shows that unfortunately changing the learning rate and the random factor does not bring any relevant change to the training. This will be confirmed by the next results which are very similar to those obtained before without the tuning.\n",
    "This aspect should definitely be looked into...  \n",
    "Now we train the agent again using the best parameters found in the tuning and we evaluate the results."
   ]
  },
  {
   "cell_type": "code",
   "execution_count": 14,
   "metadata": {},
   "outputs": [
    {
     "data": {
      "image/png": "[encoded data removed]",
      "text/plain": [
       "<Figure size 640x480 with 1 Axes>"
      ]
     },
     "metadata": {},
     "output_type": "display_data"
    }
   ],
   "source": [
    "logging.getLogger().setLevel(logging.INFO)\n",
    "initial_state = Nim(5)\n",
    "G = dict()\n",
    "r = reinforcement_learning(initial_state=initial_state, epochs=10000, random_factor=best_parameters[0][0], learning_rate=best_parameters[0][1])"
   ]
  },
  {
   "cell_type": "code",
   "execution_count": 156,
   "metadata": {},
   "outputs": [
    {
     "data": {
      "text/plain": [
       "0.61"
      ]
     },
     "execution_count": 156,
     "metadata": {},
     "output_type": "execute_result"
    }
   ],
   "source": [
    "evaluate(reinforcement_learning_strategy, pure_random, 200, 5)"
   ]
  },
  {
   "cell_type": "code",
   "execution_count": 162,
   "metadata": {},
   "outputs": [
    {
     "data": {
      "text/plain": [
       "0.01"
      ]
     },
     "execution_count": 162,
     "metadata": {},
     "output_type": "execute_result"
    }
   ],
   "source": [
    "evaluate(reinforcement_learning_strategy, optimal_strategy, 200, 5)"
   ]
  },
  {
   "cell_type": "code",
   "execution_count": 163,
   "metadata": {},
   "outputs": [
    {
     "data": {
      "text/plain": [
       "0.19"
      ]
     },
     "execution_count": 163,
     "metadata": {},
     "output_type": "execute_result"
    }
   ],
   "source": [
    "evaluate(reinforcement_learning_strategy, semi_optimal_strategy, 200, 5)"
   ]
  }
 ],
 "metadata": {
  "kernelspec": {
   "display_name": "Python 3.9.13 64-bit (microsoft store)",
   "language": "python",
   "name": "python3"
  },
  "language_info": {
   "codemirror_mode": {
    "name": "ipython",
    "version": 3
   },
   "file_extension": ".py",
   "mimetype": "text/x-python",
   "name": "python",
   "nbconvert_exporter": "python",
   "pygments_lexer": "ipython3",
   "version": "3.9.13"
  },
  "orig_nbformat": 4,
  "vscode": {
   "interpreter": {
    "hash": "006c9a256d11bcb0c3194b67b6dd4253f125bec1d01822ebb3a5ddb0c9f9fa2c"
   }
  }
 },
 "nbformat": 4,
 "nbformat_minor": 2
}
