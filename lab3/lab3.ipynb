{
 "cells": [
  {
   "cell_type": "markdown",
   "metadata": {},
   "source": [
    "# Lab3\n",
    "### Task\n",
    "Write agents able to play Nim, with an arbitrary number of rows and an upper bound  on the number of objects that can be removed in a turn (a.k.a., subtraction game).  \n",
    "The player taking the last object wins.  \n",
    "\n",
    "- Task3.1: An agent using fixed rules based on nim-sum (i.e., an expert system)\n",
    "- Task3.2: An agent using evolved rules\n",
    "- Task3.3: An agent using minmax\n",
    "- Task3.4: An agent using reinforcement learning"
   ]
  },
  {
   "cell_type": "markdown",
   "metadata": {},
   "source": [
    "# Lab3\n",
    "### Task\n",
    "Write agents able to play Nim, with an arbitrary number of rows and an upper bound  on the number of objects that can be removed in a turn (a.k.a., subtraction game).  \n",
    "The player taking the last object wins.  \n",
    "\n",
    "- Task3.1: An agent using fixed rules based on nim-sum (i.e., an expert system)\n",
    "- Task3.2: An agent using evolved rules\n",
    "- Task3.3: An agent using minmax\n",
    "- Task3.4: An agent using reinforcement learning"
   ]
  },
  {
   "cell_type": "markdown",
   "metadata": {},
   "source": [
    "## Classes and functions"
   ]
  },
  {
   "cell_type": "code",
   "execution_count": 2,
   "metadata": {},
   "outputs": [],
   "source": [
    "import logging\n",
    "from collections import namedtuple\n",
    "import random\n",
    "from typing import Callable\n",
    "from copy import deepcopy\n",
    "from itertools import accumulate\n",
    "from operator import xor, or_, and_, not_\n",
    "import math"
   ]
  },
  {
   "cell_type": "code",
   "execution_count": 3,
   "metadata": {},
   "outputs": [],
   "source": [
    "Nimply = namedtuple(\"Nimply\", \"row, num_objects\")"
   ]
  },
  {
   "cell_type": "code",
   "execution_count": 4,
   "metadata": {},
   "outputs": [],
   "source": [
    "class Nim:\n",
    "    def __init__(self, num_rows: int, k: int = None) -> None:\n",
    "        self._rows = [i * 2 + 1 for i in range(num_rows)]\n",
    "        self._k = k\n",
    "\n",
    "    def __bool__(self):\n",
    "        return sum(self._rows) > 0\n",
    "\n",
    "    def __str__(self):\n",
    "        return \"<\" + \" \".join(str(_) for _ in self._rows) + \">\"\n",
    "\n",
    "    @property\n",
    "    def rows(self) -> tuple:\n",
    "        return tuple(self._rows)\n",
    "\n",
    "    @property\n",
    "    def k(self) -> int:\n",
    "        return self._k\n",
    "\n",
    "    def nimming(self, ply: Nimply) -> None:\n",
    "        row, num_objects = ply\n",
    "        assert self._rows[row] >= num_objects\n",
    "        assert self._k is None or num_objects <= self._k\n",
    "        self._rows[row] -= num_objects"
   ]
  },
  {
   "cell_type": "code",
   "execution_count": 5,
   "metadata": {},
   "outputs": [],
   "source": [
    "def nim_sum(state: Nim) -> int:\n",
    "    *_, result = accumulate(state.rows, xor)\n",
    "    return result\n",
    "\n",
    "def cook_status(state: Nim) -> dict:\n",
    "    cooked = dict()\n",
    "    cooked[\"possible_moves\"] = [(r, o) for r, c in enumerate(state.rows) for o in range(1, c + 1) if state.k is None or o <= state.k]\n",
    "    cooked[\"shortest_row\"] = min((x for x in enumerate(state.rows) if x[1] > 0), key=lambda y: y[1])[0]\n",
    "    cooked[\"longest_row\"] = max((x for x in enumerate(state.rows)), key=lambda y: y[1])[0]\n",
    "    cooked[\"nim_sum\"] = nim_sum(state)\n",
    "\n",
    "\n",
    "    brute_force = list()\n",
    "    for m in cooked[\"possible_moves\"]:\n",
    "        tmp = deepcopy(state)\n",
    "        tmp.nimming(m)\n",
    "        brute_force.append((m, nim_sum(tmp)))\n",
    "    cooked[\"brute_force\"] = brute_force\n",
    "\n",
    "    return cooked"
   ]
  },
  {
   "cell_type": "code",
   "execution_count": 6,
   "metadata": {},
   "outputs": [],
   "source": [
    "def pure_random(state: Nim) -> Nimply:\n",
    "    row = random.choice([r for r, c in enumerate(state.rows) if c > 0])\n",
    "    num_objects = random.randint(1, state.rows[row])\n",
    "    return Nimply(row, num_objects)"
   ]
  },
  {
   "cell_type": "code",
   "execution_count": 7,
   "metadata": {},
   "outputs": [],
   "source": [
    "def evaluate(strategy1: Callable, strategy2: Callable, num_matches=100, nim_size=6) -> float:\n",
    "    opponent = (strategy1, strategy2)\n",
    "    won = 0\n",
    "\n",
    "    for m in range(num_matches):\n",
    "        m+=1\n",
    "        nim = Nim(nim_size)\n",
    "        player = 0\n",
    "        while nim:\n",
    "            ply = opponent[player](nim)\n",
    "            nim.nimming(ply)\n",
    "            player = 1 - player\n",
    "        if player == 1:\n",
    "            won += 1\n",
    "    return won / num_matches"
   ]
  },
  {
   "cell_type": "markdown",
   "metadata": {},
   "source": [
    "## 3.0: Let's try some basic hard-coded rules first"
   ]
  },
  {
   "cell_type": "code",
   "execution_count": 40,
   "metadata": {},
   "outputs": [],
   "source": [
    "def make_strategy(genome: dict) -> Callable:\n",
    "    def evolvable(state: Nim) -> Nimply:\n",
    "        data = cook_status(state)\n",
    "        if len([el for el in state.rows if el !=0]) == 2: #if i only have two lines left with objects\n",
    "            ply = Nimply(data[\"longest_row\"], state.rows[data[\"longest_row\"]]-state.rows[data[\"shortest_row\"]]) #always make lines even\n",
    "        elif sum([el for el in state.rows])%2 == 1: #if the sum of the elements is odd\n",
    "            for m in data[\"possible_moves\"]:    #make a move that will make it even\n",
    "                tmp=deepcopy(state)\n",
    "                tmp.nimming(m)\n",
    "                if sum([el for el in tmp.rows])%2  == 0:\n",
    "                    ply = Nimply(m[0],m[1])\n",
    "        elif random.random() < genome[\"p\"]:\n",
    "            ply = Nimply(data[\"shortest_row\"], random.randint(1, state.rows[data[\"shortest_row\"]]))\n",
    "        else:\n",
    "            ply = Nimply(data[\"longest_row\"], random.randint(1, state.rows[data[\"longest_row\"]]))\n",
    "\n",
    "        return ply\n",
    "\n",
    "    return evolvable"
   ]
  },
  {
   "cell_type": "markdown",
   "metadata": {},
   "source": [
    "The two simple rules to make lines sum to an even number and to always make the last two lines contain the same number of objects allows us to win more than 90% of the matches against a random strategy"
   ]
  },
  {
   "cell_type": "code",
   "execution_count": 61,
   "metadata": {},
   "outputs": [
    {
     "name": "stdout",
     "output_type": "stream",
     "text": [
      "0.95\n"
     ]
    }
   ],
   "source": [
    "print(evaluate(make_strategy({\"p\":0.3}),pure_random))"
   ]
  },
  {
   "cell_type": "code",
   "execution_count": 28,
   "metadata": {},
   "outputs": [
    {
     "name": "stderr",
     "output_type": "stream",
     "text": [
      "DEBUG:root:status: Initial board  -> <1 3 5 7 9 11 13 15 17 19 21>\n",
      "DEBUG:root:status: After player 0 -> <1 3 5 7 9 11 13 15 17 19 0>\n",
      "DEBUG:root:status: After player 1 -> <1 0 5 7 9 11 13 15 17 19 0>\n",
      "DEBUG:root:status: After player 0 -> <1 0 5 7 9 11 13 15 17 0 0>\n",
      "DEBUG:root:status: After player 1 -> <1 0 5 7 9 11 6 15 17 0 0>\n",
      "DEBUG:root:status: After player 0 -> <1 0 5 7 9 11 6 15 0 0 0>\n",
      "DEBUG:root:status: After player 1 -> <1 0 5 6 9 11 6 15 0 0 0>\n",
      "DEBUG:root:status: After player 0 -> <1 0 5 6 9 11 6 0 0 0 0>\n",
      "DEBUG:root:status: After player 1 -> <1 0 5 6 9 11 5 0 0 0 0>\n",
      "DEBUG:root:status: After player 0 -> <1 0 5 6 9 11 0 0 0 0 0>\n",
      "DEBUG:root:status: After player 1 -> <0 0 5 6 9 11 0 0 0 0 0>\n",
      "DEBUG:root:status: After player 0 -> <0 0 5 6 9 0 0 0 0 0 0>\n",
      "DEBUG:root:status: After player 1 -> <0 0 5 3 9 0 0 0 0 0 0>\n",
      "DEBUG:root:status: After player 0 -> <0 0 5 3 0 0 0 0 0 0 0>\n",
      "DEBUG:root:status: After player 1 -> <0 0 0 3 0 0 0 0 0 0 0>\n",
      "DEBUG:root:status: After player 0 -> <0 0 0 0 0 0 0 0 0 0 0>\n",
      "INFO:root:status: Player 0 won!\n"
     ]
    }
   ],
   "source": [
    "logging.getLogger().setLevel(logging.DEBUG)\n",
    "\n",
    "strategy = (make_strategy({\"p\":0.3}), pure_random)\n",
    "\n",
    "nim = Nim(11)\n",
    "logging.debug(f\"status: Initial board  -> {nim}\")\n",
    "player = 0\n",
    "while nim:\n",
    "    ply = strategy[player](nim)\n",
    "    nim.nimming(ply)\n",
    "    logging.debug(f\"status: After player {player} -> {nim}\")\n",
    "    player = 1 - player\n",
    "winner = 1 - player\n",
    "logging.info(f\"status: Player {winner} won!\")"
   ]
  },
  {
   "cell_type": "markdown",
   "metadata": {},
   "source": [
    "## 3.1: An agent using fixed rules based on nim-sum (i.e., an expert system)"
   ]
  },
  {
   "cell_type": "code",
   "execution_count": 43,
   "metadata": {},
   "outputs": [],
   "source": [
    "def optimal_strategy(state: Nim) -> Nimply:\n",
    "    'optimal strategy with nim sum'\n",
    "    data = cook_status(state)\n",
    "    return next((bf for bf in data[\"brute_force\"] if bf[1] == 0), random.choice(data[\"brute_force\"]))[0]"
   ]
  },
  {
   "cell_type": "code",
   "execution_count": 49,
   "metadata": {},
   "outputs": [
    {
     "name": "stderr",
     "output_type": "stream",
     "text": [
      "DEBUG:root:status: Initial board  -> <1 3 5 7 9 11 13 15 17 19 21>\n",
      "DEBUG:root:status: After player 0 -> <1 3 5 7 9 11 9 15 17 19 21>\n",
      "DEBUG:root:status: After player 1 -> <1 3 5 7 9 11 9 15 2 19 21>\n",
      "DEBUG:root:status: After player 0 -> <1 0 5 7 9 11 9 15 2 19 21>\n",
      "DEBUG:root:status: After player 1 -> <1 0 5 4 9 11 9 15 2 19 21>\n",
      "DEBUG:root:status: After player 0 -> <1 0 5 4 9 11 9 15 2 1 21>\n",
      "DEBUG:root:status: After player 1 -> <1 0 5 4 9 11 9 15 2 1 7>\n",
      "DEBUG:root:status: After player 0 -> <1 0 5 3 9 11 9 15 2 1 7>\n",
      "DEBUG:root:status: After player 1 -> <1 0 2 3 9 11 9 15 2 1 7>\n",
      "DEBUG:root:status: After player 0 -> <1 0 2 3 9 11 9 15 2 0 7>\n",
      "DEBUG:root:status: After player 1 -> <0 0 2 3 9 11 9 15 2 0 7>\n",
      "DEBUG:root:status: After player 0 -> <0 0 2 3 8 11 9 15 2 0 7>\n",
      "DEBUG:root:status: After player 1 -> <0 0 2 2 8 11 9 15 2 0 7>\n",
      "DEBUG:root:status: After player 0 -> <0 0 2 2 8 11 0 15 2 0 7>\n",
      "DEBUG:root:status: After player 1 -> <0 0 2 2 1 11 0 15 2 0 7>\n",
      "DEBUG:root:status: After player 0 -> <0 0 2 2 1 11 0 9 2 0 7>\n",
      "DEBUG:root:status: After player 1 -> <0 0 2 2 1 11 0 9 2 0 1>\n",
      "DEBUG:root:status: After player 0 -> <0 0 2 2 1 11 0 0 2 0 1>\n",
      "DEBUG:root:status: After player 1 -> <0 0 2 2 1 2 0 0 2 0 1>\n",
      "DEBUG:root:status: After player 0 -> <0 0 1 2 1 2 0 0 2 0 1>\n",
      "DEBUG:root:status: After player 1 -> <0 0 1 1 1 2 0 0 2 0 1>\n",
      "DEBUG:root:status: After player 0 -> <0 0 0 1 1 2 0 0 2 0 1>\n",
      "DEBUG:root:status: After player 1 -> <0 0 0 0 1 2 0 0 2 0 1>\n",
      "DEBUG:root:status: After player 0 -> <0 0 0 0 1 2 0 0 0 0 1>\n",
      "DEBUG:root:status: After player 1 -> <0 0 0 0 1 0 0 0 0 0 1>\n",
      "DEBUG:root:status: After player 0 -> <0 0 0 0 1 0 0 0 0 0 0>\n",
      "DEBUG:root:status: After player 1 -> <0 0 0 0 0 0 0 0 0 0 0>\n",
      "INFO:root:status: Player 1 won!\n"
     ]
    }
   ],
   "source": [
    "logging.getLogger().setLevel(logging.DEBUG)\n",
    "\n",
    "strategy = (pure_random, optimal_strategy)\n",
    "\n",
    "nim = Nim(11)\n",
    "logging.debug(f\"status: Initial board  -> {nim}\")\n",
    "player = 0\n",
    "while nim:\n",
    "    ply = strategy[player](nim)\n",
    "    nim.nimming(ply)\n",
    "    logging.debug(f\"status: After player {player} -> {nim}\")\n",
    "    player = 1 - player\n",
    "winner = 1 - player\n",
    "logging.info(f\"status: Player {winner} won!\")"
   ]
  },
  {
   "cell_type": "markdown",
   "metadata": {},
   "source": [
    "### Evaluation optimal strategy\n",
    "We can evaluate the optimal strategy to confirm that it wins all the matches against a random strategy.  \n",
    "In the future it will be unnecessary to compare the optimal strategy with any other kind of strategy becase it will always win."
   ]
  },
  {
   "cell_type": "code",
   "execution_count": 9,
   "metadata": {},
   "outputs": [
    {
     "data": {
      "text/plain": [
       "1.0"
      ]
     },
     "execution_count": 9,
     "metadata": {},
     "output_type": "execute_result"
    }
   ],
   "source": [
    "evaluate(optimal_strategy, pure_random)"
   ]
  },
  {
   "cell_type": "markdown",
   "metadata": {},
   "source": [
    "## 3.2: An agent using evolved rules"
   ]
  },
  {
   "cell_type": "markdown",
   "metadata": {},
   "source": [
    "Define a semi-optimal strategy so that I can compare the result of the ga with an algorithm that is not optimal but still very close to it."
   ]
  },
  {
   "cell_type": "code",
   "execution_count": 10,
   "metadata": {},
   "outputs": [],
   "source": [
    "def semi_optimal_strategy(state: Nim) -> Nimply:\n",
    "    data = cook_status(state)\n",
    "    if random.random() < 0.75:\n",
    "        return next((bf for bf in data[\"brute_force\"] if bf[1] == 0), random.choice(data[\"brute_force\"]))[0]\n",
    "    else:\n",
    "        row = random.choice([r for r, c in enumerate(state.rows) if c > 0])\n",
    "        num_objects = random.randint(1, state.rows[row])\n",
    "        return Nimply(row, num_objects)"
   ]
  },
  {
   "cell_type": "code",
   "execution_count": 85,
   "metadata": {},
   "outputs": [],
   "source": [
    "from statistics import *\n",
    "\n",
    "def tournament(population, tournament_size=2):\n",
    "    return max(random.choices(population, k=tournament_size), key=lambda i: i.fitness)\n",
    "\n",
    "def crossover(g1,g2,problem_size):\n",
    "    cut = random.randint(0, problem_size) #i have 5 rules\n",
    "    return g1.genome[:cut] + g2.genome[cut:]\n",
    "\n",
    "def mutation(g, problem_size):\n",
    "    point = random.randint(0, problem_size-1)\n",
    "    return g[:point] + [1 - g[point]] + g[point + 1 :]\n",
    "\n",
    "def initialize_population():\n",
    "    return \n",
    "\n",
    "def my_and(rows: tuple) -> int:\n",
    "    *_, result = accumulate(rows, and_)\n",
    "    return result\n",
    "\n",
    "def my_or(rows: tuple) -> int:\n",
    "    *_, result = accumulate(rows, or_)\n",
    "    return result\n",
    "\n",
    "RULES = [sum, min, stdev, my_and, my_or]\n",
    "\n",
    "def evolvable_strategy(genome):\n",
    "    def strategy(state: Nim):\n",
    "        candidate_plays = list()\n",
    "        data=cook_status(state)\n",
    "        possible_moves = data[\"possible_moves\"]\n",
    "        for m in possible_moves:\n",
    "            tmp = deepcopy(state)\n",
    "            tmp.nimming(m)\n",
    "            play = (m, sum(w * op(tmp.rows) for w, op in zip(genome, RULES)))\n",
    "            candidate_plays.append(play)\n",
    "            if play[1] == 0:\n",
    "                return play[0]                                \n",
    "        return min(candidate_plays, key=lambda x: x[1])[0]\n",
    "    return strategy\n",
    "\n",
    "def fitness(genome):\n",
    "    'fitness with semi-optimal strategy'\n",
    "    return (evaluate(evolvable_strategy(genome),semi_optimal_strategy,num_matches=10) , evaluate(evolvable_strategy(genome),pure_random,num_matches=10))"
   ]
  },
  {
   "cell_type": "code",
   "execution_count": 89,
   "metadata": {},
   "outputs": [],
   "source": [
    "def genetic_algorithm(rules: list, fixed=True):\n",
    "    Individual = namedtuple('Individual',('genome','fitness'))\n",
    "    NUM_GENERATIONS = 100\n",
    "    POPULATION_SIZE = 10\n",
    "    OFFSPRING_SIZE = 5\n",
    "    problem_size=len(rules)\n",
    "\n",
    "    #Variables initialization\n",
    "    plateau_count = 0 #stores the number of consecutive generations in which the algorithm does not improve\n",
    "    #Initialize population\n",
    "    population = [Individual(i, fitness(i)) for i in ([random.choice([0,1]) for _ in range(len(RULES))] for _ in range(POPULATION_SIZE))]\n",
    "\n",
    "    #Create fitness log\n",
    "    fitness_log = [(0, i.fitness) for i in population]\n",
    "\n",
    "    prob_vett = [0.3,0.5,0.7]\n",
    "    \n",
    "    #Evolution algorithm\n",
    "    for g in range(NUM_GENERATIONS):\n",
    "        offspring = list()\n",
    "        for i in range(OFFSPRING_SIZE):\n",
    "            #decide the probability of crossover/mutation\n",
    "            if fixed: prob=0.3\n",
    "            elif g//10 > 2: #if fixed=False increase the probabiliy of mutation every 10 generations\n",
    "                prob=0.7\n",
    "            else: prob=prob_vett[g//10]\n",
    "            if random.random() < prob:\n",
    "                p = tournament(population)\n",
    "                o = mutation(p.genome,problem_size)\n",
    "            else:\n",
    "                p1 = tournament(population)\n",
    "                p2 = tournament(population)\n",
    "                o = crossover(p1, p2, problem_size)\n",
    "            f = fitness(o)\n",
    "            fitness_log.append((g + 1, f))\n",
    "            offspring.append(Individual(o, f))\n",
    "        population += offspring\n",
    "        population = sorted(population, key=lambda i: i.fitness, reverse=True)[:POPULATION_SIZE]\n",
    "        #check if we have reached a plateau, if we don't improve for 20 generations break\n",
    "        if max(f[1] for f in fitness_log if f[0] == g + 1) <= max(f[1] for f in fitness_log if f[0] == g): plateau_count += 1\n",
    "        else: plateau_count = 0\n",
    "        if plateau_count == 20: break \n",
    "    logging.info(f\"The best individual is: {population[0]}\")\n",
    "    return evolvable_strategy(population[0].genome)\n"
   ]
  },
  {
   "cell_type": "code",
   "execution_count": 87,
   "metadata": {},
   "outputs": [
    {
     "name": "stderr",
     "output_type": "stream",
     "text": [
      "INFO:root:The best individual is: Individual(genome=[0, 1, 0, 1, 1], fitness=(0.9, 0.7))\n"
     ]
    },
    {
     "name": "stdout",
     "output_type": "stream",
     "text": [
      "<function evolvable_strategy.<locals>.strategy at 0x0000021C2B042CA0>\n"
     ]
    }
   ],
   "source": [
    "logging.getLogger().setLevel(logging.INFO)\n",
    "final_strategy = genetic_algorithm(RULES)\n",
    "print(final_strategy)"
   ]
  },
  {
   "cell_type": "code",
   "execution_count": 88,
   "metadata": {},
   "outputs": [
    {
     "name": "stdout",
     "output_type": "stream",
     "text": [
      "0.84\n",
      "0.47\n",
      "0.0\n"
     ]
    }
   ],
   "source": [
    "print(evaluate(final_strategy,pure_random))\n",
    "print(evaluate(final_strategy,semi_optimal_strategy))\n",
    "print(evaluate(final_strategy,optimal_strategy))"
   ]
  }
 ],
 "metadata": {
  "kernelspec": {
   "display_name": "Python 3.9.13 64-bit (microsoft store)",
   "language": "python",
   "name": "python3"
  },
  "language_info": {
   "codemirror_mode": {
    "name": "ipython",
    "version": 3
   },
   "file_extension": ".py",
   "mimetype": "text/x-python",
   "name": "python",
   "nbconvert_exporter": "python",
   "pygments_lexer": "ipython3",
   "version": "3.9.13"
  },
  "orig_nbformat": 4,
  "vscode": {
   "interpreter": {
    "hash": "006c9a256d11bcb0c3194b67b6dd4253f125bec1d01822ebb3a5ddb0c9f9fa2c"
   }
  }
 },
 "nbformat": 4,
 "nbformat_minor": 2
}
